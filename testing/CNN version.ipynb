{
 "cells": [
  {
   "cell_type": "code",
   "execution_count": 1,
   "id": "c326b5a7-f9f2-472d-ba41-143bc07b236a",
   "metadata": {},
   "outputs": [],
   "source": [
    "import gzip\n",
    "import os\n",
    "import sys\n",
    "import urllib\n",
    "import matplotlib.image as mpimg\n",
    "from PIL import Image\n",
    "\n",
    "import code\n",
    "\n",
    "#import tensorflow.python.platform\n",
    "\n",
    "import numpy\n",
    "import tensorflow as tf\n",
    "import tensorflow.keras as keras\n",
    "from keras import layers, models, datasets,regularizers\n",
    "from helpers_images import * "
   ]
  },
  {
   "cell_type": "code",
   "execution_count": 2,
   "id": "6919d944-f34b-4eee-8ee6-9a2aba7872bf",
   "metadata": {},
   "outputs": [],
   "source": [
    "RATIO_VALIDATION = 0.1\n",
    "NUMBER_TRAINING_EXAMPLES = 100\n",
    "NUMBER_TEST_EXAMPLES = 50\n",
    "SAVE_MODEL = False\n",
    "LOAD_MODEL = False\n",
    "DATA_LOADED = False"
   ]
  },
  {
   "cell_type": "code",
   "execution_count": 3,
   "id": "7d11e509-03ca-40ee-8667-4ad3ea7f4e80",
   "metadata": {},
   "outputs": [
    {
     "name": "stdout",
     "output_type": "stream",
     "text": [
      "Loading ../data/training/images/satImage_001.png\n",
      "Loading ../data/training/images/satImage_002.png\n",
      "Loading ../data/training/images/satImage_003.png\n",
      "Loading ../data/training/images/satImage_004.png\n",
      "Loading ../data/training/images/satImage_005.png\n",
      "Loading ../data/training/images/satImage_006.png\n",
      "Loading ../data/training/images/satImage_007.png\n",
      "Loading ../data/training/images/satImage_008.png\n",
      "Loading ../data/training/images/satImage_009.png\n",
      "Loading ../data/training/images/satImage_010.png\n",
      "Loading ../data/training/images/satImage_011.png\n",
      "Loading ../data/training/images/satImage_012.png\n",
      "Loading ../data/training/images/satImage_013.png\n",
      "Loading ../data/training/images/satImage_014.png\n",
      "Loading ../data/training/images/satImage_015.png\n",
      "Loading ../data/training/images/satImage_016.png\n",
      "Loading ../data/training/images/satImage_017.png\n",
      "Loading ../data/training/images/satImage_018.png\n",
      "Loading ../data/training/images/satImage_019.png\n",
      "Loading ../data/training/images/satImage_020.png\n",
      "Loading ../data/training/images/satImage_021.png\n",
      "Loading ../data/training/images/satImage_022.png\n",
      "Loading ../data/training/images/satImage_023.png\n",
      "Loading ../data/training/images/satImage_024.png\n",
      "Loading ../data/training/images/satImage_025.png\n",
      "Loading ../data/training/images/satImage_026.png\n",
      "Loading ../data/training/images/satImage_027.png\n",
      "Loading ../data/training/images/satImage_028.png\n",
      "Loading ../data/training/images/satImage_029.png\n",
      "Loading ../data/training/images/satImage_030.png\n",
      "Loading ../data/training/images/satImage_031.png\n",
      "Loading ../data/training/images/satImage_032.png\n",
      "Loading ../data/training/images/satImage_033.png\n",
      "Loading ../data/training/images/satImage_034.png\n",
      "Loading ../data/training/images/satImage_035.png\n",
      "Loading ../data/training/images/satImage_036.png\n",
      "Loading ../data/training/images/satImage_037.png\n",
      "Loading ../data/training/images/satImage_038.png\n",
      "Loading ../data/training/images/satImage_039.png\n",
      "Loading ../data/training/images/satImage_040.png\n",
      "Loading ../data/training/images/satImage_041.png\n",
      "Loading ../data/training/images/satImage_042.png\n",
      "Loading ../data/training/images/satImage_043.png\n",
      "Loading ../data/training/images/satImage_044.png\n",
      "Loading ../data/training/images/satImage_045.png\n",
      "Loading ../data/training/images/satImage_046.png\n",
      "Loading ../data/training/images/satImage_047.png\n",
      "Loading ../data/training/images/satImage_048.png\n",
      "Loading ../data/training/images/satImage_049.png\n",
      "Loading ../data/training/images/satImage_050.png\n",
      "Loading ../data/training/images/satImage_051.png\n",
      "Loading ../data/training/images/satImage_052.png\n",
      "Loading ../data/training/images/satImage_053.png\n",
      "Loading ../data/training/images/satImage_054.png\n",
      "Loading ../data/training/images/satImage_055.png\n",
      "Loading ../data/training/images/satImage_056.png\n",
      "Loading ../data/training/images/satImage_057.png\n",
      "Loading ../data/training/images/satImage_058.png\n",
      "Loading ../data/training/images/satImage_059.png\n",
      "Loading ../data/training/images/satImage_060.png\n",
      "Loading ../data/training/images/satImage_061.png\n",
      "Loading ../data/training/images/satImage_062.png\n",
      "Loading ../data/training/images/satImage_063.png\n",
      "Loading ../data/training/images/satImage_064.png\n",
      "Loading ../data/training/images/satImage_065.png\n",
      "Loading ../data/training/images/satImage_066.png\n",
      "Loading ../data/training/images/satImage_067.png\n",
      "Loading ../data/training/images/satImage_068.png\n",
      "Loading ../data/training/images/satImage_069.png\n",
      "Loading ../data/training/images/satImage_070.png\n",
      "Loading ../data/training/images/satImage_071.png\n",
      "Loading ../data/training/images/satImage_072.png\n",
      "Loading ../data/training/images/satImage_073.png\n",
      "Loading ../data/training/images/satImage_074.png\n",
      "Loading ../data/training/images/satImage_075.png\n",
      "Loading ../data/training/images/satImage_076.png\n",
      "Loading ../data/training/images/satImage_077.png\n",
      "Loading ../data/training/images/satImage_078.png\n",
      "Loading ../data/training/images/satImage_079.png\n",
      "Loading ../data/training/images/satImage_080.png\n",
      "Loading ../data/training/images/satImage_081.png\n",
      "Loading ../data/training/images/satImage_082.png\n",
      "Loading ../data/training/images/satImage_083.png\n",
      "Loading ../data/training/images/satImage_084.png\n",
      "Loading ../data/training/images/satImage_085.png\n",
      "Loading ../data/training/images/satImage_086.png\n",
      "Loading ../data/training/images/satImage_087.png\n",
      "Loading ../data/training/images/satImage_088.png\n",
      "Loading ../data/training/images/satImage_089.png\n",
      "Loading ../data/training/images/satImage_090.png\n",
      "Loading ../data/training/images/satImage_091.png\n",
      "Loading ../data/training/images/satImage_092.png\n",
      "Loading ../data/training/images/satImage_093.png\n",
      "Loading ../data/training/images/satImage_094.png\n",
      "Loading ../data/training/images/satImage_095.png\n",
      "Loading ../data/training/images/satImage_096.png\n",
      "Loading ../data/training/images/satImage_097.png\n",
      "Loading ../data/training/images/satImage_098.png\n",
      "Loading ../data/training/images/satImage_099.png\n",
      "Loading ../data/training/images/satImage_100.png\n",
      "Loading ../data/training/groundtruth/satImage_001.png\n",
      "Loading ../data/training/groundtruth/satImage_002.png\n",
      "Loading ../data/training/groundtruth/satImage_003.png\n",
      "Loading ../data/training/groundtruth/satImage_004.png\n",
      "Loading ../data/training/groundtruth/satImage_005.png\n",
      "Loading ../data/training/groundtruth/satImage_006.png\n",
      "Loading ../data/training/groundtruth/satImage_007.png\n",
      "Loading ../data/training/groundtruth/satImage_008.png\n",
      "Loading ../data/training/groundtruth/satImage_009.png\n",
      "Loading ../data/training/groundtruth/satImage_010.png\n",
      "Loading ../data/training/groundtruth/satImage_011.png\n",
      "Loading ../data/training/groundtruth/satImage_012.png\n",
      "Loading ../data/training/groundtruth/satImage_013.png\n",
      "Loading ../data/training/groundtruth/satImage_014.png\n",
      "Loading ../data/training/groundtruth/satImage_015.png\n",
      "Loading ../data/training/groundtruth/satImage_016.png\n",
      "Loading ../data/training/groundtruth/satImage_017.png\n",
      "Loading ../data/training/groundtruth/satImage_018.png\n",
      "Loading ../data/training/groundtruth/satImage_019.png\n",
      "Loading ../data/training/groundtruth/satImage_020.png\n",
      "Loading ../data/training/groundtruth/satImage_021.png\n",
      "Loading ../data/training/groundtruth/satImage_022.png\n",
      "Loading ../data/training/groundtruth/satImage_023.png\n",
      "Loading ../data/training/groundtruth/satImage_024.png\n",
      "Loading ../data/training/groundtruth/satImage_025.png\n",
      "Loading ../data/training/groundtruth/satImage_026.png\n",
      "Loading ../data/training/groundtruth/satImage_027.png\n",
      "Loading ../data/training/groundtruth/satImage_028.png\n",
      "Loading ../data/training/groundtruth/satImage_029.png\n",
      "Loading ../data/training/groundtruth/satImage_030.png\n",
      "Loading ../data/training/groundtruth/satImage_031.png\n",
      "Loading ../data/training/groundtruth/satImage_032.png\n",
      "Loading ../data/training/groundtruth/satImage_033.png\n",
      "Loading ../data/training/groundtruth/satImage_034.png\n",
      "Loading ../data/training/groundtruth/satImage_035.png\n",
      "Loading ../data/training/groundtruth/satImage_036.png\n",
      "Loading ../data/training/groundtruth/satImage_037.png\n",
      "Loading ../data/training/groundtruth/satImage_038.png\n",
      "Loading ../data/training/groundtruth/satImage_039.png\n",
      "Loading ../data/training/groundtruth/satImage_040.png\n",
      "Loading ../data/training/groundtruth/satImage_041.png\n",
      "Loading ../data/training/groundtruth/satImage_042.png\n",
      "Loading ../data/training/groundtruth/satImage_043.png\n",
      "Loading ../data/training/groundtruth/satImage_044.png\n",
      "Loading ../data/training/groundtruth/satImage_045.png\n",
      "Loading ../data/training/groundtruth/satImage_046.png\n",
      "Loading ../data/training/groundtruth/satImage_047.png\n",
      "Loading ../data/training/groundtruth/satImage_048.png\n",
      "Loading ../data/training/groundtruth/satImage_049.png\n",
      "Loading ../data/training/groundtruth/satImage_050.png\n",
      "Loading ../data/training/groundtruth/satImage_051.png\n",
      "Loading ../data/training/groundtruth/satImage_052.png\n",
      "Loading ../data/training/groundtruth/satImage_053.png\n",
      "Loading ../data/training/groundtruth/satImage_054.png\n",
      "Loading ../data/training/groundtruth/satImage_055.png\n",
      "Loading ../data/training/groundtruth/satImage_056.png\n",
      "Loading ../data/training/groundtruth/satImage_057.png\n",
      "Loading ../data/training/groundtruth/satImage_058.png\n",
      "Loading ../data/training/groundtruth/satImage_059.png\n",
      "Loading ../data/training/groundtruth/satImage_060.png\n",
      "Loading ../data/training/groundtruth/satImage_061.png\n",
      "Loading ../data/training/groundtruth/satImage_062.png\n",
      "Loading ../data/training/groundtruth/satImage_063.png\n",
      "Loading ../data/training/groundtruth/satImage_064.png\n",
      "Loading ../data/training/groundtruth/satImage_065.png\n",
      "Loading ../data/training/groundtruth/satImage_066.png\n",
      "Loading ../data/training/groundtruth/satImage_067.png\n",
      "Loading ../data/training/groundtruth/satImage_068.png\n",
      "Loading ../data/training/groundtruth/satImage_069.png\n",
      "Loading ../data/training/groundtruth/satImage_070.png\n",
      "Loading ../data/training/groundtruth/satImage_071.png\n",
      "Loading ../data/training/groundtruth/satImage_072.png\n",
      "Loading ../data/training/groundtruth/satImage_073.png\n",
      "Loading ../data/training/groundtruth/satImage_074.png\n",
      "Loading ../data/training/groundtruth/satImage_075.png\n",
      "Loading ../data/training/groundtruth/satImage_076.png\n",
      "Loading ../data/training/groundtruth/satImage_077.png\n",
      "Loading ../data/training/groundtruth/satImage_078.png\n",
      "Loading ../data/training/groundtruth/satImage_079.png\n",
      "Loading ../data/training/groundtruth/satImage_080.png\n",
      "Loading ../data/training/groundtruth/satImage_081.png\n",
      "Loading ../data/training/groundtruth/satImage_082.png\n",
      "Loading ../data/training/groundtruth/satImage_083.png\n",
      "Loading ../data/training/groundtruth/satImage_084.png\n",
      "Loading ../data/training/groundtruth/satImage_085.png\n",
      "Loading ../data/training/groundtruth/satImage_086.png\n",
      "Loading ../data/training/groundtruth/satImage_087.png\n",
      "Loading ../data/training/groundtruth/satImage_088.png\n",
      "Loading ../data/training/groundtruth/satImage_089.png\n",
      "Loading ../data/training/groundtruth/satImage_090.png\n",
      "Loading ../data/training/groundtruth/satImage_091.png\n",
      "Loading ../data/training/groundtruth/satImage_092.png\n",
      "Loading ../data/training/groundtruth/satImage_093.png\n",
      "Loading ../data/training/groundtruth/satImage_094.png\n",
      "Loading ../data/training/groundtruth/satImage_095.png\n",
      "Loading ../data/training/groundtruth/satImage_096.png\n",
      "Loading ../data/training/groundtruth/satImage_097.png\n",
      "Loading ../data/training/groundtruth/satImage_098.png\n",
      "Loading ../data/training/groundtruth/satImage_099.png\n",
      "Loading ../data/training/groundtruth/satImage_100.png\n",
      "(187500, 16, 16, 3)\n",
      "(187500, 2)\n"
     ]
    }
   ],
   "source": [
    "training_data_directory = \"../data/training/\"\n",
    "test_data_directory = \"../data/test_set_images/\"\n",
    "if not(DATA_LOADED):    \n",
    "    train_data, train_labels = extract_train_data(NUMBER_TRAINING_EXAMPLES,True,True), extract_labels(training_data_directory, NUMBER_TRAINING_EXAMPLES,True,True)\n",
    "    DATA_LOADED = True\n",
    "\n",
    "print(train_data.shape)\n",
    "print(train_labels.shape)"
   ]
  },
  {
   "cell_type": "code",
   "execution_count": 42,
   "id": "b427ab67-b89c-46d0-86af-fc347a19e2cc",
   "metadata": {},
   "outputs": [
    {
     "data": {
      "text/plain": [
       "(138926, 48574)"
      ]
     },
     "execution_count": 42,
     "metadata": {},
     "output_type": "execute_result"
    }
   ],
   "source": [
    "c0 = 0\n",
    "c1 = 0\n",
    "for label in train_labels:\n",
    "    if label[0] == 1:\n",
    "        c0 += 1\n",
    "    else:\n",
    "        c1+= 1\n",
    "c0, c1        "
   ]
  },
  {
   "cell_type": "code",
   "execution_count": 72,
   "id": "af613011-6640-49fb-bc6e-d3ee15d2f173",
   "metadata": {},
   "outputs": [],
   "source": [
    "def build_model():\n",
    "    model = keras.Sequential()\n",
    "    #model.add(layers.RandomFlip(\"horizontal_and_vertical\"))\n",
    "    #model.add(layers.RandomFlip(\"horizontal\"))\n",
    "    model.add(layers.RandomZoom(-0.3))\n",
    "    model.add(layers.Conv2D(64, (1, 1), activation='elu', padding = \"same\"))\n",
    "    model.add(layers.MaxPooling2D((2, 2)))\n",
    "    model.add(layers.Conv2D(128, (1, 1), activation='elu', padding = \"same\"))\n",
    "    model.add(layers.MaxPooling2D((2, 2)))\n",
    "    model.add(layers.Conv2D(256, (1, 1), activation='elu', padding = \"same\"))\n",
    "    model.add(layers.MaxPooling2D((2, 2)))\n",
    "    model.add(layers.Conv2D(512, (1, 1), activation='elu', padding = \"same\"))\n",
    "    model.add(layers.MaxPooling2D((2, 2)))\n",
    "    model.add(layers.Flatten())\n",
    "    model.add(layers.Dense(2))\n",
    "    model.add(layers.Softmax())\n",
    "    return model"
   ]
  },
  {
   "cell_type": "code",
   "execution_count": 73,
   "id": "2e2d5274",
   "metadata": {},
   "outputs": [],
   "source": [
    "from keras import backend as K\n",
    "\n",
    "def recall_m(y_true, y_pred):\n",
    "    true_positives = K.sum(K.round(K.clip(y_true * y_pred, 0, 1)))\n",
    "    possible_positives = K.sum(K.round(K.clip(y_true, 0, 1)))\n",
    "    recall = true_positives / (possible_positives + K.epsilon())\n",
    "    return recall\n",
    "\n",
    "def precision_m(y_true, y_pred):\n",
    "    true_positives = K.sum(K.round(K.clip(y_true * y_pred, 0, 1)))\n",
    "    predicted_positives = K.sum(K.round(K.clip(y_pred, 0, 1)))\n",
    "    precision = true_positives / (predicted_positives + K.epsilon())\n",
    "    return precision\n",
    "\n",
    "def f1_score(y_true, y_pred):\n",
    "    precision = precision_m(y_true, y_pred)\n",
    "    recall = recall_m(y_true, y_pred)\n",
    "    return 2*((precision*recall)/(precision+recall+K.epsilon()))"
   ]
  },
  {
   "cell_type": "code",
   "execution_count": 74,
   "id": "cafbe88e-03b6-4113-b876-a6c8534ba8fd",
   "metadata": {},
   "outputs": [
    {
     "name": "stdout",
     "output_type": "stream",
     "text": [
      "Model: \"sequential_4\"\n",
      "_________________________________________________________________\n",
      " Layer (type)                Output Shape              Param #   \n",
      "=================================================================\n",
      " random_zoom_4 (RandomZoom)  (187500, 16, 16, 3)       0         \n",
      "                                                                 \n",
      " conv2d_16 (Conv2D)          (187500, 16, 16, 64)      256       \n",
      "                                                                 \n",
      " max_pooling2d_16 (MaxPoolin  (187500, 8, 8, 64)       0         \n",
      " g2D)                                                            \n",
      "                                                                 \n",
      " conv2d_17 (Conv2D)          (187500, 8, 8, 128)       8320      \n",
      "                                                                 \n",
      " max_pooling2d_17 (MaxPoolin  (187500, 4, 4, 128)      0         \n",
      " g2D)                                                            \n",
      "                                                                 \n",
      " conv2d_18 (Conv2D)          (187500, 4, 4, 256)       33024     \n",
      "                                                                 \n",
      " max_pooling2d_18 (MaxPoolin  (187500, 2, 2, 256)      0         \n",
      " g2D)                                                            \n",
      "                                                                 \n",
      " conv2d_19 (Conv2D)          (187500, 2, 2, 512)       131584    \n",
      "                                                                 \n",
      " max_pooling2d_19 (MaxPoolin  (187500, 1, 1, 512)      0         \n",
      " g2D)                                                            \n",
      "                                                                 \n",
      " flatten_4 (Flatten)         (187500, 512)             0         \n",
      "                                                                 \n",
      " dense_4 (Dense)             (187500, 2)               1026      \n",
      "                                                                 \n",
      " softmax_4 (Softmax)         (187500, 2)               0         \n",
      "                                                                 \n",
      "=================================================================\n",
      "Total params: 174,210\n",
      "Trainable params: 174,210\n",
      "Non-trainable params: 0\n",
      "_________________________________________________________________\n"
     ]
    }
   ],
   "source": [
    "model = build_model()\n",
    "model.build(input_shape=(187500, 16, 16, 3))\n",
    "model.summary()\n",
    "model.compile(optimizer='adamax',\n",
    "            loss= tf.keras.losses.CategoricalCrossentropy(from_logits=False),\n",
    "            metrics=[f1_score, 'accuracy'])"
   ]
  },
  {
   "cell_type": "code",
   "execution_count": 75,
   "id": "efdf4014-1fb4-4bf2-885e-4d2f99c50cb7",
   "metadata": {
    "tags": []
   },
   "outputs": [
    {
     "data": {
      "text/plain": [
       "[<keras.layers.preprocessing.image_preprocessing.RandomZoom at 0x23f20b98e48>,\n",
       " <keras.layers.convolutional.Conv2D at 0x23f1fb2ee80>,\n",
       " <keras.layers.pooling.MaxPooling2D at 0x23f1fb38518>,\n",
       " <keras.layers.convolutional.Conv2D at 0x23f1fb38748>,\n",
       " <keras.layers.pooling.MaxPooling2D at 0x23f1fb38c50>,\n",
       " <keras.layers.convolutional.Conv2D at 0x23f20ba6a58>,\n",
       " <keras.layers.pooling.MaxPooling2D at 0x23f1fb29358>,\n",
       " <keras.layers.convolutional.Conv2D at 0x23f1fb295c0>,\n",
       " <keras.layers.pooling.MaxPooling2D at 0x23f1fb29a90>,\n",
       " <keras.layers.core.flatten.Flatten at 0x23f1fb29cc0>,\n",
       " <keras.layers.core.dense.Dense at 0x23f1fb2e358>,\n",
       " <keras.layers.advanced_activations.Softmax at 0x23f1f3b1d30>]"
      ]
     },
     "execution_count": 75,
     "metadata": {},
     "output_type": "execute_result"
    }
   ],
   "source": [
    "model.layers"
   ]
  },
  {
   "cell_type": "code",
   "execution_count": 45,
   "id": "32738c27-15aa-4933-86b2-c380633a1f38",
   "metadata": {
    "scrolled": true
   },
   "outputs": [
    {
     "name": "stdout",
     "output_type": "stream",
     "text": [
      "Epoch 1/30\n",
      "WARNING:tensorflow:AutoGraph could not transform <function Model.make_train_function.<locals>.train_function at 0x0000023F1B4BF840> and will run it as-is.\n",
      "Please report this to the TensorFlow team. When filing the bug, set the verbosity to 10 (on Linux, `export AUTOGRAPH_VERBOSITY=10`) and attach the full output.\n",
      "Cause: 'arguments' object has no attribute 'posonlyargs'\n",
      "To silence this warning, decorate the function with @tf.autograph.experimental.do_not_convert\n",
      "WARNING: AutoGraph could not transform <function Model.make_train_function.<locals>.train_function at 0x0000023F1B4BF840> and will run it as-is.\n",
      "Please report this to the TensorFlow team. When filing the bug, set the verbosity to 10 (on Linux, `export AUTOGRAPH_VERBOSITY=10`) and attach the full output.\n",
      "Cause: 'arguments' object has no attribute 'posonlyargs'\n",
      "To silence this warning, decorate the function with @tf.autograph.experimental.do_not_convert\n",
      "5273/5274 [============================>.] - ETA: 0s - loss: 0.4723 - f1_score: 0.7726 - accuracy: 0.7726WARNING:tensorflow:AutoGraph could not transform <function Model.make_test_function.<locals>.test_function at 0x0000023F212559D8> and will run it as-is.\n",
      "Please report this to the TensorFlow team. When filing the bug, set the verbosity to 10 (on Linux, `export AUTOGRAPH_VERBOSITY=10`) and attach the full output.\n",
      "Cause: 'arguments' object has no attribute 'posonlyargs'\n",
      "To silence this warning, decorate the function with @tf.autograph.experimental.do_not_convert\n",
      "WARNING: AutoGraph could not transform <function Model.make_test_function.<locals>.test_function at 0x0000023F212559D8> and will run it as-is.\n",
      "Please report this to the TensorFlow team. When filing the bug, set the verbosity to 10 (on Linux, `export AUTOGRAPH_VERBOSITY=10`) and attach the full output.\n",
      "Cause: 'arguments' object has no attribute 'posonlyargs'\n",
      "To silence this warning, decorate the function with @tf.autograph.experimental.do_not_convert\n",
      "5274/5274 [==============================] - 144s 27ms/step - loss: 0.4723 - f1_score: 0.7726 - accuracy: 0.7726 - val_loss: 0.5859 - val_f1_score: 0.6816 - val_accuracy: 0.6816\n",
      "Epoch 2/30\n",
      "5274/5274 [==============================] - 133s 25ms/step - loss: 0.4117 - f1_score: 0.8027 - accuracy: 0.8027 - val_loss: 0.6197 - val_f1_score: 0.6718 - val_accuracy: 0.6718\n",
      "Epoch 3/30\n",
      "5274/5274 [==============================] - 130s 25ms/step - loss: 0.4019 - f1_score: 0.8080 - accuracy: 0.8080 - val_loss: 0.5721 - val_f1_score: 0.7190 - val_accuracy: 0.7190\n",
      "Epoch 4/30\n",
      "5274/5274 [==============================] - 133s 25ms/step - loss: 0.3955 - f1_score: 0.8121 - accuracy: 0.8121 - val_loss: 0.5755 - val_f1_score: 0.6954 - val_accuracy: 0.6954\n",
      "Epoch 5/30\n",
      "5274/5274 [==============================] - 125s 24ms/step - loss: 0.3911 - f1_score: 0.8141 - accuracy: 0.8141 - val_loss: 0.5750 - val_f1_score: 0.6954 - val_accuracy: 0.6954\n",
      "Epoch 6/30\n",
      "5274/5274 [==============================] - 124s 23ms/step - loss: 0.3870 - f1_score: 0.8171 - accuracy: 0.8171 - val_loss: 0.5683 - val_f1_score: 0.7313 - val_accuracy: 0.7313\n",
      "Epoch 7/30\n",
      "5274/5274 [==============================] - 131s 25ms/step - loss: 0.3839 - f1_score: 0.8189 - accuracy: 0.8190 - val_loss: 0.5589 - val_f1_score: 0.7317 - val_accuracy: 0.7317\n",
      "Epoch 8/30\n",
      "5274/5274 [==============================] - 129s 24ms/step - loss: 0.3804 - f1_score: 0.8200 - accuracy: 0.8200 - val_loss: 0.5570 - val_f1_score: 0.7080 - val_accuracy: 0.7081\n",
      "Epoch 9/30\n",
      "5274/5274 [==============================] - 131s 25ms/step - loss: 0.3768 - f1_score: 0.8229 - accuracy: 0.8229 - val_loss: 0.5309 - val_f1_score: 0.7325 - val_accuracy: 0.7325\n",
      "Epoch 10/30\n",
      "5274/5274 [==============================] - 147s 28ms/step - loss: 0.3763 - f1_score: 0.8234 - accuracy: 0.8234 - val_loss: 0.5790 - val_f1_score: 0.7049 - val_accuracy: 0.7050\n",
      "Epoch 11/30\n",
      "5274/5274 [==============================] - 148s 28ms/step - loss: 0.3745 - f1_score: 0.8250 - accuracy: 0.8249 - val_loss: 0.6047 - val_f1_score: 0.6912 - val_accuracy: 0.6912\n",
      "Epoch 12/30\n",
      "5274/5274 [==============================] - 142s 27ms/step - loss: 0.3723 - f1_score: 0.8256 - accuracy: 0.8256 - val_loss: 0.6266 - val_f1_score: 0.6823 - val_accuracy: 0.6823\n",
      "Epoch 13/30\n",
      "5274/5274 [==============================] - 135s 26ms/step - loss: 0.3714 - f1_score: 0.8274 - accuracy: 0.8274 - val_loss: 0.5607 - val_f1_score: 0.7174 - val_accuracy: 0.7174\n",
      "Epoch 14/30\n",
      "5274/5274 [==============================] - 148s 28ms/step - loss: 0.3697 - f1_score: 0.8269 - accuracy: 0.8269 - val_loss: 0.5489 - val_f1_score: 0.7117 - val_accuracy: 0.7117\n",
      "Epoch 15/30\n",
      "5274/5274 [==============================] - 141s 27ms/step - loss: 0.3672 - f1_score: 0.8289 - accuracy: 0.8289 - val_loss: 0.5442 - val_f1_score: 0.7204 - val_accuracy: 0.7204\n",
      "Epoch 16/30\n",
      "5274/5274 [==============================] - 134s 25ms/step - loss: 0.3661 - f1_score: 0.8299 - accuracy: 0.8299 - val_loss: 0.5539 - val_f1_score: 0.7186 - val_accuracy: 0.7187\n",
      "Epoch 17/30\n",
      "5274/5274 [==============================] - 140s 27ms/step - loss: 0.3657 - f1_score: 0.8296 - accuracy: 0.8296 - val_loss: 0.5452 - val_f1_score: 0.7213 - val_accuracy: 0.7213\n",
      "Epoch 18/30\n",
      "5274/5274 [==============================] - 142s 27ms/step - loss: 0.3649 - f1_score: 0.8313 - accuracy: 0.8313 - val_loss: 0.5152 - val_f1_score: 0.7496 - val_accuracy: 0.7496\n",
      "Epoch 19/30\n",
      "5274/5274 [==============================] - 140s 26ms/step - loss: 0.3641 - f1_score: 0.8317 - accuracy: 0.8317 - val_loss: 0.5291 - val_f1_score: 0.7256 - val_accuracy: 0.7256\n",
      "Epoch 20/30\n",
      "5274/5274 [==============================] - 137s 26ms/step - loss: 0.3625 - f1_score: 0.8317 - accuracy: 0.8317 - val_loss: 0.5249 - val_f1_score: 0.7349 - val_accuracy: 0.7349\n",
      "Epoch 21/30\n",
      "5274/5274 [==============================] - 132s 25ms/step - loss: 0.3616 - f1_score: 0.8323 - accuracy: 0.8323 - val_loss: 0.5562 - val_f1_score: 0.7097 - val_accuracy: 0.7097\n",
      "Epoch 22/30\n",
      "5274/5274 [==============================] - 131s 25ms/step - loss: 0.3601 - f1_score: 0.8328 - accuracy: 0.8328 - val_loss: 0.5491 - val_f1_score: 0.7353 - val_accuracy: 0.7353\n",
      "Epoch 23/30\n",
      "5274/5274 [==============================] - 131s 25ms/step - loss: 0.3599 - f1_score: 0.8347 - accuracy: 0.8347 - val_loss: 0.5306 - val_f1_score: 0.7243 - val_accuracy: 0.7244\n",
      "Epoch 24/30\n",
      "5274/5274 [==============================] - 141s 27ms/step - loss: 0.3593 - f1_score: 0.8336 - accuracy: 0.8336 - val_loss: 0.5611 - val_f1_score: 0.7300 - val_accuracy: 0.7300\n",
      "Epoch 25/30\n",
      "5274/5274 [==============================] - 137s 26ms/step - loss: 0.3597 - f1_score: 0.8334 - accuracy: 0.8334 - val_loss: 0.5191 - val_f1_score: 0.7241 - val_accuracy: 0.7241\n",
      "Epoch 26/30\n",
      "5274/5274 [==============================] - 145s 27ms/step - loss: 0.3569 - f1_score: 0.8353 - accuracy: 0.8353 - val_loss: 0.5532 - val_f1_score: 0.7026 - val_accuracy: 0.7026\n",
      "Epoch 27/30\n",
      "5274/5274 [==============================] - 135s 26ms/step - loss: 0.3566 - f1_score: 0.8355 - accuracy: 0.8355 - val_loss: 0.5152 - val_f1_score: 0.7314 - val_accuracy: 0.7315\n",
      "Epoch 28/30\n",
      "5274/5274 [==============================] - 135s 26ms/step - loss: 0.3563 - f1_score: 0.8362 - accuracy: 0.8362 - val_loss: 0.5197 - val_f1_score: 0.7339 - val_accuracy: 0.7340\n",
      "Epoch 29/30\n",
      "5274/5274 [==============================] - 130s 25ms/step - loss: 0.3548 - f1_score: 0.8365 - accuracy: 0.8366 - val_loss: 0.5193 - val_f1_score: 0.7387 - val_accuracy: 0.7388\n",
      "Epoch 30/30\n",
      "5274/5274 [==============================] - 127s 24ms/step - loss: 0.3541 - f1_score: 0.8368 - accuracy: 0.8368 - val_loss: 0.5138 - val_f1_score: 0.7513 - val_accuracy: 0.7513\n"
     ]
    }
   ],
   "source": [
    "epochs = 100\n",
    "if not(LOAD_MODEL):\n",
    "    history = model.fit(train_data, train_labels, epochs=epochs, validation_split = RATIO_VALIDATION)"
   ]
  },
  {
   "cell_type": "code",
   "execution_count": 12,
   "id": "46232143-bf26-4d94-93e2-c23ce37a0202",
   "metadata": {},
   "outputs": [],
   "source": [
    "import matplotlib.pyplot as plt\n",
    "def plot(parameter_name, small_window = False):\n",
    "    plt.plot(history.history[parameter_name], label=parameter_name)\n",
    "    plt.plot(history.history['val_' + parameter_name], label = 'val_' + parameter_name)\n",
    "    plt.xlabel('Epoch')\n",
    "    plt.ylabel(parameter_name.capitalize())\n",
    "    if small_window:\n",
    "        plt.ylim([0.1, 0.7])\n",
    "    else:\n",
    "        plt.ylim([0.5, 1])\n",
    "    plt.legend(loc='lower right')"
   ]
  },
  {
   "cell_type": "code",
   "execution_count": 13,
   "id": "32380e33-c372-4f96-85ec-26f485667dbb",
   "metadata": {},
   "outputs": [
    {
     "data": {
      "text/plain": [
       "dict_keys(['loss', 'f1_score', 'accuracy', 'val_loss', 'val_f1_score', 'val_accuracy'])"
      ]
     },
     "execution_count": 13,
     "metadata": {},
     "output_type": "execute_result"
    }
   ],
   "source": [
    "history.history.keys()"
   ]
  },
  {
   "cell_type": "code",
   "execution_count": 46,
   "id": "80212940-eb0b-4d07-a394-6d5c4df82500",
   "metadata": {},
   "outputs": [
    {
     "data": {
      "image/png": "[encoded data removed]",
      "text/plain": [
       "<Figure size 432x288 with 1 Axes>"
      ]
     },
     "metadata": {
      "needs_background": "light"
     },
     "output_type": "display_data"
    }
   ],
   "source": [
    "if not(LOAD_MODEL):\n",
    "    plot('accuracy')"
   ]
  },
  {
   "cell_type": "code",
   "execution_count": 47,
   "id": "d47ab910-9878-4847-bd8d-e3854163a935",
   "metadata": {},
   "outputs": [
    {
     "data": {
      "image/png": "[encoded data removed]",
      "text/plain": [
       "<Figure size 432x288 with 1 Axes>"
      ]
     },
     "metadata": {
      "needs_background": "light"
     },
     "output_type": "display_data"
    }
   ],
   "source": [
    "if not(LOAD_MODEL):\n",
    "    plot('f1_score')"
   ]
  },
  {
   "cell_type": "code",
   "execution_count": 48,
   "id": "4381dda2-bbc3-4b6d-b7d1-5d31d0cdf00d",
   "metadata": {},
   "outputs": [
    {
     "data": {
      "image/png": "[encoded data removed]",
      "text/plain": [
       "<Figure size 432x288 with 1 Axes>"
      ]
     },
     "metadata": {
      "needs_background": "light"
     },
     "output_type": "display_data"
    }
   ],
   "source": [
    "if not(LOAD_MODEL):\n",
    "    plot('loss', True)"
   ]
  },
  {
   "cell_type": "code",
   "execution_count": 54,
   "id": "d409368e-2c39-42c5-86ea-e078347e309a",
   "metadata": {},
   "outputs": [],
   "source": [
    "if LOAD_MODEL:\n",
    "    loaded_model = tf.keras.models.load_model('model_seg.h5', custom_objects = {'f1_score': f1_score})\n",
    "elif SAVE_MODEL:\n",
    "    model.save(\"model_seg.h5\")"
   ]
  },
  {
   "cell_type": "code",
   "execution_count": 55,
   "id": "7c805131-1f85-477b-8d09-f96ac876e18b",
   "metadata": {},
   "outputs": [],
   "source": [
    "if LOAD_MODEL:\n",
    "    model = loaded_model"
   ]
  },
  {
   "cell_type": "code",
   "execution_count": 56,
   "id": "71a9345d-4488-441a-80f4-2c4fc5b0c084",
   "metadata": {},
   "outputs": [],
   "source": [
    "ex, label = train_data[0], train_labels[0]"
   ]
  },
  {
   "cell_type": "code",
   "execution_count": 57,
   "id": "5d6735f2-411f-4ef6-949d-a3491a60fbfd",
   "metadata": {},
   "outputs": [
    {
     "data": {
      "text/plain": [
       "(16, 16, 3)"
      ]
     },
     "execution_count": 57,
     "metadata": {},
     "output_type": "execute_result"
    }
   ],
   "source": [
    "train_data[0].shape"
   ]
  },
  {
   "cell_type": "code",
   "execution_count": 58,
   "id": "f061ea29-9b90-41e8-9fd9-0e73996c5a04",
   "metadata": {},
   "outputs": [
    {
     "data": {
      "text/plain": [
       "array([1., 0.], dtype=float32)"
      ]
     },
     "execution_count": 58,
     "metadata": {},
     "output_type": "execute_result"
    }
   ],
   "source": [
    "label"
   ]
  },
  {
   "cell_type": "code",
   "execution_count": 59,
   "id": "579e1443-fca0-469c-b1d2-11d45505977f",
   "metadata": {},
   "outputs": [],
   "source": [
    "import pathlib"
   ]
  },
  {
   "cell_type": "code",
   "execution_count": 60,
   "id": "54f1167d-e1a1-403f-84d4-9251f90acce5",
   "metadata": {},
   "outputs": [],
   "source": [
    "directory_path = pathlib.Path(\"../data/test_set_images/\")"
   ]
  },
  {
   "cell_type": "code",
   "execution_count": 61,
   "id": "899ffa1e-7118-42a7-a9e0-587ee697064c",
   "metadata": {},
   "outputs": [
    {
     "data": {
      "text/plain": [
       "50"
      ]
     },
     "execution_count": 61,
     "metadata": {},
     "output_type": "execute_result"
    }
   ],
   "source": [
    "len(list(directory_path.glob('*/*.png')))"
   ]
  },
  {
   "cell_type": "code",
   "execution_count": 62,
   "id": "d5747a64-abf3-4f5f-bd23-c2ef3aa7e6bd",
   "metadata": {},
   "outputs": [],
   "source": [
    "all_images = []\n",
    "for i in range(1,51):\n",
    "    image_in_directory = list(directory_path.glob(\"test_\" + str(i) + \"/*\"))\n",
    "    all_images.extend(image_in_directory)\n",
    "img_height = img_width = 608"
   ]
  },
  {
   "cell_type": "code",
   "execution_count": 63,
   "id": "0d1a37f5-5fbe-4d0d-8f21-d04214c9a82a",
   "metadata": {},
   "outputs": [
    {
     "data": {
      "text/plain": [
       "50"
      ]
     },
     "execution_count": 63,
     "metadata": {},
     "output_type": "execute_result"
    }
   ],
   "source": [
    "len(all_images)"
   ]
  },
  {
   "cell_type": "code",
   "execution_count": 64,
   "id": "7fc86929-8b38-45fb-8ac7-da46a811120c",
   "metadata": {},
   "outputs": [],
   "source": [
    "all_images_arrays = []\n",
    "for i in range(len(all_images)):\n",
    "    img = tf.keras.utils.load_img(\n",
    "        all_images[i], target_size=(img_height, img_width)\n",
    "    )\n",
    "    img_array = tf.keras.utils.img_to_array(img)\n",
    "    all_images_arrays.append(img_array)\n",
    "all_images_arrays = numpy.array(all_images_arrays)/255.0"
   ]
  },
  {
   "cell_type": "code",
   "execution_count": 65,
   "id": "2d67dbb0-c344-4195-9b4b-b60e7a70e73c",
   "metadata": {},
   "outputs": [
    {
     "data": {
      "text/plain": [
       "1.0"
      ]
     },
     "execution_count": 65,
     "metadata": {},
     "output_type": "execute_result"
    }
   ],
   "source": [
    "all_images_arrays.max()"
   ]
  },
  {
   "cell_type": "code",
   "execution_count": 66,
   "id": "29e60ada-3116-41c1-9a7d-ef039f24f241",
   "metadata": {},
   "outputs": [
    {
     "data": {
      "text/plain": [
       "(50, 608, 608, 3)"
      ]
     },
     "execution_count": 66,
     "metadata": {},
     "output_type": "execute_result"
    }
   ],
   "source": [
    "all_images_arrays.shape"
   ]
  },
  {
   "cell_type": "code",
   "execution_count": 67,
   "id": "15179965-ed94-4a47-acfb-9c19ef760b0d",
   "metadata": {},
   "outputs": [],
   "source": [
    "test_images = []\n",
    "for i in range(len(all_images_arrays)):\n",
    "    img_patched = extract_data_from_image(all_images_arrays[i])\n",
    "    test_images.extend(img_patched)\n",
    "test_images = numpy.array(test_images)"
   ]
  },
  {
   "cell_type": "code",
   "execution_count": 68,
   "id": "1d3cf4f1",
   "metadata": {},
   "outputs": [
    {
     "data": {
      "text/plain": [
       "(72200, 16, 16, 3)"
      ]
     },
     "execution_count": 68,
     "metadata": {},
     "output_type": "execute_result"
    }
   ],
   "source": [
    "test_images.shape"
   ]
  },
  {
   "cell_type": "code",
   "execution_count": 69,
   "id": "45782f95-8e0f-4e7e-8049-7c46ced2868e",
   "metadata": {},
   "outputs": [],
   "source": [
    "predictions_testing = \"predictions_testing/\"\n",
    "if not os.path.isdir(predictions_testing):\n",
    "    os.mkdir(predictions_testing)"
   ]
  },
  {
   "cell_type": "code",
   "execution_count": 70,
   "id": "186e4311-e72e-4911-8fa6-b6340692c165",
   "metadata": {},
   "outputs": [
    {
     "data": {
      "text/plain": [
       "(16, 16, 3)"
      ]
     },
     "execution_count": 70,
     "metadata": {},
     "output_type": "execute_result"
    }
   ],
   "source": [
    "train_data[0].shape"
   ]
  },
  {
   "cell_type": "code",
   "execution_count": 71,
   "id": "225e9aff-68e4-4309-a324-05dd9e9bc2ff",
   "metadata": {},
   "outputs": [
    {
     "name": "stdin",
     "output_type": "stream",
     "text": [
      " GO\n"
     ]
    }
   ],
   "source": [
    "stopper = input()\n",
    "for i in range(len(all_images_arrays)):\n",
    "    pimg,prediction = get_prediction_with_groundtruth(all_images_arrays[i], model)\n",
    "    Image.fromarray(pimg[:,608:,:]).save(predictions_testing + \"prediction_image_\" + str(i+1) + \".png\")\n",
    "    Image.fromarray(pimg).save(predictions_testing + \"prediction_\" + str(i) + \".png\")\n",
    "    oimg = get_prediction_with_overlay(all_images_arrays[i], model)\n",
    "    oimg.save(predictions_testing  + \"overlay_\" + str(i) + \".png\")"
   ]
  },
  {
   "cell_type": "code",
   "execution_count": null,
   "id": "46375273-ee32-4f81-b68a-497e07272ff6",
   "metadata": {},
   "outputs": [],
   "source": []
  }
 ],
 "metadata": {
  "kernelspec": {
   "display_name": "Python 3 (ipykernel)",
   "language": "python",
   "name": "python3"
  },
  "language_info": {
   "codemirror_mode": {
    "name": "ipython",
    "version": 3
   },
   "file_extension": ".py",
   "mimetype": "text/x-python",
   "name": "python",
   "nbconvert_exporter": "python",
   "pygments_lexer": "ipython3",
   "version": "3.7.3"
  }
 },
 "nbformat": 4,
 "nbformat_minor": 5
}
