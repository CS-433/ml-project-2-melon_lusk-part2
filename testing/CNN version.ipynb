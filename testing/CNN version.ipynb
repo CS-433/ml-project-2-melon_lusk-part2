{
 "cells": [
  {
   "cell_type": "code",
   "execution_count": 1,
   "id": "c326b5a7-f9f2-472d-ba41-143bc07b236a",
   "metadata": {},
   "outputs": [],
   "source": [
    "import gzip\n",
    "import os\n",
    "import sys\n",
    "import urllib\n",
    "import matplotlib.image as mpimg\n",
    "from PIL import Image\n",
    "\n",
    "import code\n",
    "import os\n",
    "#import tensorflow.python.platform\n",
    "\n",
    "import numpy as np\n",
    "import tensorflow.keras as keras\n",
    "from keras import layers, models, datasets,regularizers\n",
    "from helpers_images import * "
   ]
  },
  {
   "cell_type": "code",
   "execution_count": 2,
   "id": "ad60edd3-565a-4ca2-beb5-bd4398ef8b25",
   "metadata": {},
   "outputs": [
    {
     "name": "stdout",
     "output_type": "stream",
     "text": [
      "No GPU found\n"
     ]
    }
   ],
   "source": [
    "os.environ['CUDA_VISIBLE_DEVICES'] = '-1'\n",
    "\n",
    "if tf.test.gpu_device_name():\n",
    "    print('GPU found')\n",
    "else:\n",
    "    print(\"No GPU found\")"
   ]
  },
  {
   "cell_type": "code",
   "execution_count": 3,
   "id": "fb78e0e1-30ec-4e0c-abea-a39b6f591816",
   "metadata": {},
   "outputs": [
    {
     "name": "stdout",
     "output_type": "stream",
     "text": [
      "Num GPUs Available:  0\n"
     ]
    }
   ],
   "source": [
    "print(\"Num GPUs Available: \", len(tf.config.list_physical_devices('GPU'))) \n",
    "#gpu_options = tf.GPUOptions(allow_growth=True)\n",
    "#session = tf.InteractiveSession(config=tf.ConfigProto(gpu_options=gpu_options))"
   ]
  },
  {
   "cell_type": "code",
   "execution_count": 4,
   "id": "6919d944-f34b-4eee-8ee6-9a2aba7872bf",
   "metadata": {},
   "outputs": [],
   "source": [
    "RATIO_VALIDATION = 0.1\n",
    "NUMBER_TRAINING_EXAMPLES = 100\n",
    "NUMBER_TEST_EXAMPLES = 50\n",
    "SAVE_MODEL = False\n",
    "LOAD_MODEL = False\n",
    "DATA_LOADED = False"
   ]
  },
  {
   "cell_type": "code",
   "execution_count": 5,
   "id": "7d11e509-03ca-40ee-8667-4ad3ea7f4e80",
   "metadata": {},
   "outputs": [
    {
     "name": "stdout",
     "output_type": "stream",
     "text": [
      "Loading ../data/training/images/satImage_001.png\n",
      "Loading ../data/training/images/satImage_002.png\n",
      "Loading ../data/training/images/satImage_003.png\n",
      "Loading ../data/training/images/satImage_004.png\n",
      "Loading ../data/training/images/satImage_005.png\n",
      "Loading ../data/training/images/satImage_006.png\n",
      "Loading ../data/training/images/satImage_007.png\n",
      "Loading ../data/training/images/satImage_008.png\n",
      "Loading ../data/training/images/satImage_009.png\n",
      "Loading ../data/training/images/satImage_010.png\n",
      "Loading ../data/training/images/satImage_011.png\n",
      "Loading ../data/training/images/satImage_012.png\n",
      "Loading ../data/training/images/satImage_013.png\n",
      "Loading ../data/training/images/satImage_014.png\n",
      "Loading ../data/training/images/satImage_015.png\n",
      "Loading ../data/training/images/satImage_016.png\n",
      "Loading ../data/training/images/satImage_017.png\n",
      "Loading ../data/training/images/satImage_018.png\n",
      "Loading ../data/training/images/satImage_019.png\n",
      "Loading ../data/training/images/satImage_020.png\n",
      "Loading ../data/training/images/satImage_021.png\n",
      "Loading ../data/training/images/satImage_022.png\n",
      "Loading ../data/training/images/satImage_023.png\n",
      "Loading ../data/training/images/satImage_024.png\n",
      "Loading ../data/training/images/satImage_025.png\n",
      "Loading ../data/training/images/satImage_026.png\n",
      "Loading ../data/training/images/satImage_027.png\n",
      "Loading ../data/training/images/satImage_028.png\n",
      "Loading ../data/training/images/satImage_029.png\n",
      "Loading ../data/training/images/satImage_030.png\n",
      "Loading ../data/training/images/satImage_031.png\n",
      "Loading ../data/training/images/satImage_032.png\n",
      "Loading ../data/training/images/satImage_033.png\n",
      "Loading ../data/training/images/satImage_034.png\n",
      "Loading ../data/training/images/satImage_035.png\n",
      "Loading ../data/training/images/satImage_036.png\n",
      "Loading ../data/training/images/satImage_037.png\n",
      "Loading ../data/training/images/satImage_038.png\n",
      "Loading ../data/training/images/satImage_039.png\n",
      "Loading ../data/training/images/satImage_040.png\n",
      "Loading ../data/training/images/satImage_041.png\n",
      "Loading ../data/training/images/satImage_042.png\n",
      "Loading ../data/training/images/satImage_043.png\n",
      "Loading ../data/training/images/satImage_044.png\n",
      "Loading ../data/training/images/satImage_045.png\n",
      "Loading ../data/training/images/satImage_046.png\n",
      "Loading ../data/training/images/satImage_047.png\n",
      "Loading ../data/training/images/satImage_048.png\n",
      "Loading ../data/training/images/satImage_049.png\n",
      "Loading ../data/training/images/satImage_050.png\n",
      "Loading ../data/training/images/satImage_051.png\n",
      "Loading ../data/training/images/satImage_052.png\n",
      "Loading ../data/training/images/satImage_053.png\n",
      "Loading ../data/training/images/satImage_054.png\n",
      "Loading ../data/training/images/satImage_055.png\n",
      "Loading ../data/training/images/satImage_056.png\n",
      "Loading ../data/training/images/satImage_057.png\n",
      "Loading ../data/training/images/satImage_058.png\n",
      "Loading ../data/training/images/satImage_059.png\n",
      "Loading ../data/training/images/satImage_060.png\n",
      "Loading ../data/training/images/satImage_061.png\n",
      "Loading ../data/training/images/satImage_062.png\n",
      "Loading ../data/training/images/satImage_063.png\n",
      "Loading ../data/training/images/satImage_064.png\n",
      "Loading ../data/training/images/satImage_065.png\n",
      "Loading ../data/training/images/satImage_066.png\n",
      "Loading ../data/training/images/satImage_067.png\n",
      "Loading ../data/training/images/satImage_068.png\n",
      "Loading ../data/training/images/satImage_069.png\n",
      "Loading ../data/training/images/satImage_070.png\n",
      "Loading ../data/training/images/satImage_071.png\n",
      "Loading ../data/training/images/satImage_072.png\n",
      "Loading ../data/training/images/satImage_073.png\n",
      "Loading ../data/training/images/satImage_074.png\n",
      "Loading ../data/training/images/satImage_075.png\n",
      "Loading ../data/training/images/satImage_076.png\n",
      "Loading ../data/training/images/satImage_077.png\n",
      "Loading ../data/training/images/satImage_078.png\n",
      "Loading ../data/training/images/satImage_079.png\n",
      "Loading ../data/training/images/satImage_080.png\n",
      "Loading ../data/training/images/satImage_081.png\n",
      "Loading ../data/training/images/satImage_082.png\n",
      "Loading ../data/training/images/satImage_083.png\n",
      "Loading ../data/training/images/satImage_084.png\n",
      "Loading ../data/training/images/satImage_085.png\n",
      "Loading ../data/training/images/satImage_086.png\n",
      "Loading ../data/training/images/satImage_087.png\n",
      "Loading ../data/training/images/satImage_088.png\n",
      "Loading ../data/training/images/satImage_089.png\n",
      "Loading ../data/training/images/satImage_090.png\n",
      "Loading ../data/training/images/satImage_091.png\n",
      "Loading ../data/training/images/satImage_092.png\n",
      "Loading ../data/training/images/satImage_093.png\n",
      "Loading ../data/training/images/satImage_094.png\n",
      "Loading ../data/training/images/satImage_095.png\n",
      "Loading ../data/training/images/satImage_096.png\n",
      "Loading ../data/training/images/satImage_097.png\n",
      "Loading ../data/training/images/satImage_098.png\n",
      "Loading ../data/training/images/satImage_099.png\n",
      "Loading ../data/training/images/satImage_100.png\n",
      "Loading ../data/training/groundtruth/satImage_001.png\n",
      "Loading ../data/training/groundtruth/satImage_002.png\n",
      "Loading ../data/training/groundtruth/satImage_003.png\n",
      "Loading ../data/training/groundtruth/satImage_004.png\n",
      "Loading ../data/training/groundtruth/satImage_005.png\n",
      "Loading ../data/training/groundtruth/satImage_006.png\n",
      "Loading ../data/training/groundtruth/satImage_007.png\n",
      "Loading ../data/training/groundtruth/satImage_008.png\n",
      "Loading ../data/training/groundtruth/satImage_009.png\n",
      "Loading ../data/training/groundtruth/satImage_010.png\n",
      "Loading ../data/training/groundtruth/satImage_011.png\n",
      "Loading ../data/training/groundtruth/satImage_012.png\n",
      "Loading ../data/training/groundtruth/satImage_013.png\n",
      "Loading ../data/training/groundtruth/satImage_014.png\n",
      "Loading ../data/training/groundtruth/satImage_015.png\n",
      "Loading ../data/training/groundtruth/satImage_016.png\n",
      "Loading ../data/training/groundtruth/satImage_017.png\n",
      "Loading ../data/training/groundtruth/satImage_018.png\n",
      "Loading ../data/training/groundtruth/satImage_019.png\n",
      "Loading ../data/training/groundtruth/satImage_020.png\n",
      "Loading ../data/training/groundtruth/satImage_021.png\n",
      "Loading ../data/training/groundtruth/satImage_022.png\n",
      "Loading ../data/training/groundtruth/satImage_023.png\n",
      "Loading ../data/training/groundtruth/satImage_024.png\n",
      "Loading ../data/training/groundtruth/satImage_025.png\n",
      "Loading ../data/training/groundtruth/satImage_026.png\n",
      "Loading ../data/training/groundtruth/satImage_027.png\n",
      "Loading ../data/training/groundtruth/satImage_028.png\n",
      "Loading ../data/training/groundtruth/satImage_029.png\n",
      "Loading ../data/training/groundtruth/satImage_030.png\n",
      "Loading ../data/training/groundtruth/satImage_031.png\n",
      "Loading ../data/training/groundtruth/satImage_032.png\n",
      "Loading ../data/training/groundtruth/satImage_033.png\n",
      "Loading ../data/training/groundtruth/satImage_034.png\n",
      "Loading ../data/training/groundtruth/satImage_035.png\n",
      "Loading ../data/training/groundtruth/satImage_036.png\n",
      "Loading ../data/training/groundtruth/satImage_037.png\n",
      "Loading ../data/training/groundtruth/satImage_038.png\n",
      "Loading ../data/training/groundtruth/satImage_039.png\n",
      "Loading ../data/training/groundtruth/satImage_040.png\n",
      "Loading ../data/training/groundtruth/satImage_041.png\n",
      "Loading ../data/training/groundtruth/satImage_042.png\n",
      "Loading ../data/training/groundtruth/satImage_043.png\n",
      "Loading ../data/training/groundtruth/satImage_044.png\n",
      "Loading ../data/training/groundtruth/satImage_045.png\n",
      "Loading ../data/training/groundtruth/satImage_046.png\n",
      "Loading ../data/training/groundtruth/satImage_047.png\n",
      "Loading ../data/training/groundtruth/satImage_048.png\n",
      "Loading ../data/training/groundtruth/satImage_049.png\n",
      "Loading ../data/training/groundtruth/satImage_050.png\n",
      "Loading ../data/training/groundtruth/satImage_051.png\n",
      "Loading ../data/training/groundtruth/satImage_052.png\n",
      "Loading ../data/training/groundtruth/satImage_053.png\n",
      "Loading ../data/training/groundtruth/satImage_054.png\n",
      "Loading ../data/training/groundtruth/satImage_055.png\n",
      "Loading ../data/training/groundtruth/satImage_056.png\n",
      "Loading ../data/training/groundtruth/satImage_057.png\n",
      "Loading ../data/training/groundtruth/satImage_058.png\n",
      "Loading ../data/training/groundtruth/satImage_059.png\n",
      "Loading ../data/training/groundtruth/satImage_060.png\n",
      "Loading ../data/training/groundtruth/satImage_061.png\n",
      "Loading ../data/training/groundtruth/satImage_062.png\n",
      "Loading ../data/training/groundtruth/satImage_063.png\n",
      "Loading ../data/training/groundtruth/satImage_064.png\n",
      "Loading ../data/training/groundtruth/satImage_065.png\n",
      "Loading ../data/training/groundtruth/satImage_066.png\n",
      "Loading ../data/training/groundtruth/satImage_067.png\n",
      "Loading ../data/training/groundtruth/satImage_068.png\n",
      "Loading ../data/training/groundtruth/satImage_069.png\n",
      "Loading ../data/training/groundtruth/satImage_070.png\n",
      "Loading ../data/training/groundtruth/satImage_071.png\n",
      "Loading ../data/training/groundtruth/satImage_072.png\n",
      "Loading ../data/training/groundtruth/satImage_073.png\n",
      "Loading ../data/training/groundtruth/satImage_074.png\n",
      "Loading ../data/training/groundtruth/satImage_075.png\n",
      "Loading ../data/training/groundtruth/satImage_076.png\n",
      "Loading ../data/training/groundtruth/satImage_077.png\n",
      "Loading ../data/training/groundtruth/satImage_078.png\n",
      "Loading ../data/training/groundtruth/satImage_079.png\n",
      "Loading ../data/training/groundtruth/satImage_080.png\n",
      "Loading ../data/training/groundtruth/satImage_081.png\n",
      "Loading ../data/training/groundtruth/satImage_082.png\n",
      "Loading ../data/training/groundtruth/satImage_083.png\n",
      "Loading ../data/training/groundtruth/satImage_084.png\n",
      "Loading ../data/training/groundtruth/satImage_085.png\n",
      "Loading ../data/training/groundtruth/satImage_086.png\n",
      "Loading ../data/training/groundtruth/satImage_087.png\n",
      "Loading ../data/training/groundtruth/satImage_088.png\n",
      "Loading ../data/training/groundtruth/satImage_089.png\n",
      "Loading ../data/training/groundtruth/satImage_090.png\n",
      "Loading ../data/training/groundtruth/satImage_091.png\n",
      "Loading ../data/training/groundtruth/satImage_092.png\n",
      "Loading ../data/training/groundtruth/satImage_093.png\n",
      "Loading ../data/training/groundtruth/satImage_094.png\n",
      "Loading ../data/training/groundtruth/satImage_095.png\n",
      "Loading ../data/training/groundtruth/satImage_096.png\n",
      "Loading ../data/training/groundtruth/satImage_097.png\n",
      "Loading ../data/training/groundtruth/satImage_098.png\n",
      "Loading ../data/training/groundtruth/satImage_099.png\n",
      "Loading ../data/training/groundtruth/satImage_100.png\n",
      "(108300, 32, 32, 3)\n",
      "(108300, 2)\n"
     ]
    }
   ],
   "source": [
    "training_data_directory = \"../data/training/\"\n",
    "test_data_directory = \"../data/test_set_images/\"\n",
    "if not(DATA_LOADED):    \n",
    "    train_data = extract_train_data(NUMBER_TRAINING_EXAMPLES,True,True)\n",
    "    train_labels =  extract_labels(training_data_directory, NUMBER_TRAINING_EXAMPLES,True,True)\n",
    "    DATA_LOADED = True\n",
    "\n",
    "print(train_data.shape)\n",
    "print(train_labels.shape)"
   ]
  },
  {
   "cell_type": "code",
   "execution_count": 6,
   "id": "b427ab67-b89c-46d0-86af-fc347a19e2cc",
   "metadata": {},
   "outputs": [
    {
     "data": {
      "text/plain": [
       "(78147, 30153)"
      ]
     },
     "execution_count": 6,
     "metadata": {},
     "output_type": "execute_result"
    }
   ],
   "source": [
    "c0 = 0\n",
    "c1 = 0\n",
    "for label in train_labels:\n",
    "    if label[0] == 1:\n",
    "        c0 += 1\n",
    "    else:\n",
    "        c1+= 1\n",
    "c0, c1        "
   ]
  },
  {
   "cell_type": "code",
   "execution_count": 7,
   "id": "69f994af-bf20-4caa-89b4-80ce40a86044",
   "metadata": {},
   "outputs": [],
   "source": [
    "def build_model_2():\n",
    "    model = tf.keras.applications.resnet_v2.ResNet50V2(\n",
    "    include_top=True, weights=None,\n",
    "    input_shape=(32,32,3), classes=2,\n",
    "    classifier_activation='softmax')\n",
    "    return model"
   ]
  },
  {
   "cell_type": "code",
   "execution_count": 8,
   "id": "af613011-6640-49fb-bc6e-d3ee15d2f173",
   "metadata": {},
   "outputs": [],
   "source": [
    "def build_model():\n",
    "    model = keras.Sequential()\n",
    "    #model.add(layers.RandomFlip(\"horizontal_and_vertical\"))\n",
    "    #model.add(layers.RandomFlip(\"horizontal\"))\n",
    "    model.add(layers.RandomContrast(0.2))\n",
    "    model.add(layers.RandomZoom(-0.3))\n",
    "    model.add(layers.Conv2D(64, (1, 1), activation='elu', padding = \"same\"))\n",
    "    model.add(layers.MaxPooling2D((2, 2)))\n",
    "    model.add(layers.Conv2D(128, (1, 1), activation='elu', padding = \"same\"))\n",
    "    model.add(layers.MaxPooling2D((2, 2)))\n",
    "    model.add(layers.Conv2D(256, (1, 1), activation='elu', padding = \"same\"))\n",
    "    model.add(layers.MaxPooling2D((2, 2)))\n",
    "    model.add(layers.Conv2D(512, (1, 1), activation='elu', padding = \"same\"))\n",
    "    model.add(layers.MaxPooling2D((2, 2)))\n",
    "    model.add(layers.Flatten())\n",
    "    model.add(layers.Dense(2))\n",
    "    model.add(layers.Softmax())\n",
    "    return model"
   ]
  },
  {
   "cell_type": "code",
   "execution_count": 9,
   "id": "2e2d5274",
   "metadata": {},
   "outputs": [],
   "source": [
    "from keras import backend as K\n",
    "\n",
    "def recall_m(y_true, y_pred):\n",
    "    true_positives = K.sum(K.round(K.clip(y_true * y_pred, 0, 1)))\n",
    "    possible_positives = K.sum(K.round(K.clip(y_true, 0, 1)))\n",
    "    recall = true_positives / (possible_positives + K.epsilon())\n",
    "    return recall\n",
    "\n",
    "def precision_m(y_true, y_pred):\n",
    "    true_positives = K.sum(K.round(K.clip(y_true * y_pred, 0, 1)))\n",
    "    predicted_positives = K.sum(K.round(K.clip(y_pred, 0, 1)))\n",
    "    precision = true_positives / (predicted_positives + K.epsilon())\n",
    "    return precision\n",
    "\n",
    "def f1_score(y_true, y_pred):\n",
    "    precision = precision_m(y_true, y_pred)\n",
    "    recall = recall_m(y_true, y_pred)\n",
    "    return 2*((precision*recall)/(precision+recall+K.epsilon()))"
   ]
  },
  {
   "cell_type": "code",
   "execution_count": 10,
   "id": "cafbe88e-03b6-4113-b876-a6c8534ba8fd",
   "metadata": {},
   "outputs": [],
   "source": [
    "model = build_model_2()\n",
    "#model.build(input_shape=(187500, 16, 16, 3))\n",
    "#model.summary()\n",
    "model.compile(optimizer='adamax',\n",
    "            loss= tf.keras.losses.CategoricalCrossentropy(from_logits=False),\n",
    "            metrics=[f1_score, 'accuracy'])"
   ]
  },
  {
   "cell_type": "code",
   "execution_count": null,
   "id": "32738c27-15aa-4933-86b2-c380633a1f38",
   "metadata": {
    "scrolled": true
   },
   "outputs": [
    {
     "name": "stdout",
     "output_type": "stream",
     "text": [
      "Epoch 1/3\n",
      "WARNING:tensorflow:AutoGraph could not transform <function Model.make_train_function.<locals>.train_function at 0x000001BF0062B598> and will run it as-is.\n",
      "Please report this to the TensorFlow team. When filing the bug, set the verbosity to 10 (on Linux, `export AUTOGRAPH_VERBOSITY=10`) and attach the full output.\n",
      "Cause: 'arguments' object has no attribute 'posonlyargs'\n",
      "To silence this warning, decorate the function with @tf.autograph.experimental.do_not_convert\n",
      "WARNING: AutoGraph could not transform <function Model.make_train_function.<locals>.train_function at 0x000001BF0062B598> and will run it as-is.\n",
      "Please report this to the TensorFlow team. When filing the bug, set the verbosity to 10 (on Linux, `export AUTOGRAPH_VERBOSITY=10`) and attach the full output.\n",
      "Cause: 'arguments' object has no attribute 'posonlyargs'\n",
      "To silence this warning, decorate the function with @tf.autograph.experimental.do_not_convert\n",
      "WARNING:tensorflow:AutoGraph could not transform <function f1_score at 0x000001BF70012F28> and will run it as-is.\n",
      "Please report this to the TensorFlow team. When filing the bug, set the verbosity to 10 (on Linux, `export AUTOGRAPH_VERBOSITY=10`) and attach the full output.\n",
      "Cause: 'arguments' object has no attribute 'posonlyargs'\n",
      "To silence this warning, decorate the function with @tf.autograph.experimental.do_not_convert\n",
      "WARNING: AutoGraph could not transform <function f1_score at 0x000001BF70012F28> and will run it as-is.\n",
      "Please report this to the TensorFlow team. When filing the bug, set the verbosity to 10 (on Linux, `export AUTOGRAPH_VERBOSITY=10`) and attach the full output.\n",
      "Cause: 'arguments' object has no attribute 'posonlyargs'\n",
      "To silence this warning, decorate the function with @tf.autograph.experimental.do_not_convert\n",
      " 908/3046 [=======>......................] - ETA: 1:00:24 - loss: 0.5487 - f1_score: 0.7235 - accuracy: 0.7235"
     ]
    }
   ],
   "source": [
    "epochs = 3\n",
    "if not(LOAD_MODEL):\n",
    "    history = model.fit(train_data, train_labels, epochs=epochs, validation_split = RATIO_VALIDATION)"
   ]
  },
  {
   "cell_type": "code",
   "execution_count": null,
   "id": "46232143-bf26-4d94-93e2-c23ce37a0202",
   "metadata": {},
   "outputs": [],
   "source": [
    "import matplotlib.pyplot as plt\n",
    "def plot(parameter_name, small_window = False):\n",
    "    plt.plot(history.history[parameter_name], label=parameter_name)\n",
    "    plt.plot(history.history['val_' + parameter_name], label = 'val_' + parameter_name)\n",
    "    plt.xlabel('Epoch')\n",
    "    plt.ylabel(parameter_name.capitalize())\n",
    "    if small_window:\n",
    "        plt.ylim([0.1, 0.7])\n",
    "    else:\n",
    "        plt.ylim([0.5, 1])\n",
    "    plt.legend(loc='lower right')"
   ]
  },
  {
   "cell_type": "code",
   "execution_count": null,
   "id": "32380e33-c372-4f96-85ec-26f485667dbb",
   "metadata": {},
   "outputs": [],
   "source": [
    "history.history.keys()"
   ]
  },
  {
   "cell_type": "code",
   "execution_count": null,
   "id": "80212940-eb0b-4d07-a394-6d5c4df82500",
   "metadata": {},
   "outputs": [],
   "source": [
    "if not(LOAD_MODEL):\n",
    "    plot('accuracy')"
   ]
  },
  {
   "cell_type": "code",
   "execution_count": null,
   "id": "d47ab910-9878-4847-bd8d-e3854163a935",
   "metadata": {},
   "outputs": [],
   "source": [
    "if not(LOAD_MODEL):\n",
    "    plot('f1_score')"
   ]
  },
  {
   "cell_type": "code",
   "execution_count": null,
   "id": "4381dda2-bbc3-4b6d-b7d1-5d31d0cdf00d",
   "metadata": {},
   "outputs": [],
   "source": [
    "if not(LOAD_MODEL):\n",
    "    plot('loss', True)"
   ]
  },
  {
   "cell_type": "code",
   "execution_count": null,
   "id": "d409368e-2c39-42c5-86ea-e078347e309a",
   "metadata": {},
   "outputs": [],
   "source": [
    "if LOAD_MODEL:\n",
    "    loaded_model = tf.keras.models.load_model('model_seg.h5', custom_objects = {'f1_score': f1_score})\n",
    "elif SAVE_MODEL:\n",
    "    model.save(\"model_seg.h5\")"
   ]
  },
  {
   "cell_type": "code",
   "execution_count": null,
   "id": "7c805131-1f85-477b-8d09-f96ac876e18b",
   "metadata": {},
   "outputs": [],
   "source": [
    "if LOAD_MODEL:\n",
    "    model = loaded_model"
   ]
  },
  {
   "cell_type": "code",
   "execution_count": null,
   "id": "71a9345d-4488-441a-80f4-2c4fc5b0c084",
   "metadata": {},
   "outputs": [],
   "source": [
    "ex, label = train_data[0], train_labels[0]"
   ]
  },
  {
   "cell_type": "code",
   "execution_count": null,
   "id": "5d6735f2-411f-4ef6-949d-a3491a60fbfd",
   "metadata": {},
   "outputs": [],
   "source": [
    "train_data[0].shape"
   ]
  },
  {
   "cell_type": "code",
   "execution_count": null,
   "id": "f061ea29-9b90-41e8-9fd9-0e73996c5a04",
   "metadata": {},
   "outputs": [],
   "source": [
    "label"
   ]
  },
  {
   "cell_type": "code",
   "execution_count": null,
   "id": "579e1443-fca0-469c-b1d2-11d45505977f",
   "metadata": {},
   "outputs": [],
   "source": [
    "import pathlib"
   ]
  },
  {
   "cell_type": "code",
   "execution_count": null,
   "id": "54f1167d-e1a1-403f-84d4-9251f90acce5",
   "metadata": {},
   "outputs": [],
   "source": [
    "directory_path = pathlib.Path(\"../data/test_set_images/\")"
   ]
  },
  {
   "cell_type": "code",
   "execution_count": null,
   "id": "899ffa1e-7118-42a7-a9e0-587ee697064c",
   "metadata": {},
   "outputs": [],
   "source": [
    "len(list(directory_path.glob('*/*.png')))"
   ]
  },
  {
   "cell_type": "code",
   "execution_count": null,
   "id": "d5747a64-abf3-4f5f-bd23-c2ef3aa7e6bd",
   "metadata": {},
   "outputs": [],
   "source": [
    "all_images = []\n",
    "for i in range(1,51):\n",
    "    image_in_directory = list(directory_path.glob(\"test_\" + str(i) + \"/*\"))\n",
    "    all_images.extend(image_in_directory)\n",
    "img_height = img_width = 608"
   ]
  },
  {
   "cell_type": "code",
   "execution_count": null,
   "id": "0d1a37f5-5fbe-4d0d-8f21-d04214c9a82a",
   "metadata": {},
   "outputs": [],
   "source": [
    "len(all_images)"
   ]
  },
  {
   "cell_type": "code",
   "execution_count": null,
   "id": "7fc86929-8b38-45fb-8ac7-da46a811120c",
   "metadata": {},
   "outputs": [],
   "source": [
    "all_images_arrays = []\n",
    "for i in range(len(all_images)):\n",
    "    img = tf.keras.utils.load_img(\n",
    "        all_images[i], target_size=(img_height, img_width)\n",
    "    )\n",
    "    img_array = tf.keras.utils.img_to_array(img)\n",
    "    all_images_arrays.append(img_array)\n",
    "all_images_arrays = numpy.array(all_images_arrays)/255.0"
   ]
  },
  {
   "cell_type": "code",
   "execution_count": null,
   "id": "2d67dbb0-c344-4195-9b4b-b60e7a70e73c",
   "metadata": {},
   "outputs": [],
   "source": [
    "all_images_arrays.max()"
   ]
  },
  {
   "cell_type": "code",
   "execution_count": null,
   "id": "29e60ada-3116-41c1-9a7d-ef039f24f241",
   "metadata": {},
   "outputs": [],
   "source": [
    "all_images_arrays.shape"
   ]
  },
  {
   "cell_type": "code",
   "execution_count": null,
   "id": "15179965-ed94-4a47-acfb-9c19ef760b0d",
   "metadata": {},
   "outputs": [],
   "source": [
    "test_images = []\n",
    "for i in range(len(all_images_arrays)):\n",
    "    img_patched = extract_data_from_image(all_images_arrays[i])\n",
    "    test_images.extend(img_patched)\n",
    "test_images = numpy.array(test_images)"
   ]
  },
  {
   "cell_type": "code",
   "execution_count": null,
   "id": "1d3cf4f1",
   "metadata": {},
   "outputs": [],
   "source": [
    "test_images.shape"
   ]
  },
  {
   "cell_type": "code",
   "execution_count": null,
   "id": "45782f95-8e0f-4e7e-8049-7c46ced2868e",
   "metadata": {},
   "outputs": [],
   "source": [
    "predictions_testing = \"predictions_testing/\"\n",
    "if not os.path.isdir(predictions_testing):\n",
    "    os.mkdir(predictions_testing)"
   ]
  },
  {
   "cell_type": "code",
   "execution_count": null,
   "id": "186e4311-e72e-4911-8fa6-b6340692c165",
   "metadata": {},
   "outputs": [],
   "source": [
    "train_data[0].shape"
   ]
  },
  {
   "cell_type": "code",
   "execution_count": null,
   "id": "225e9aff-68e4-4309-a324-05dd9e9bc2ff",
   "metadata": {},
   "outputs": [],
   "source": [
    "stopper = input()\n",
    "for i in range(len(all_images_arrays)):\n",
    "    pimg,prediction = get_prediction_with_groundtruth(all_images_arrays[i], model)\n",
    "    Image.fromarray(pimg[:,608:,:]).save(predictions_testing + \"prediction_image_\" + str(i+1) + \".png\")\n",
    "    Image.fromarray(pimg).save(predictions_testing + \"prediction_\" + str(i) + \".png\")\n",
    "    oimg = get_prediction_with_overlay(all_images_arrays[i], model)\n",
    "    oimg.save(predictions_testing  + \"overlay_\" + str(i) + \".png\")"
   ]
  },
  {
   "cell_type": "code",
   "execution_count": null,
   "id": "46375273-ee32-4f81-b68a-497e07272ff6",
   "metadata": {},
   "outputs": [],
   "source": []
  }
 ],
 "metadata": {
  "kernelspec": {
   "display_name": "Python 3 (ipykernel)",
   "language": "python",
   "name": "python3"
  },
  "language_info": {
   "codemirror_mode": {
    "name": "ipython",
    "version": 3
   },
   "file_extension": ".py",
   "mimetype": "text/x-python",
   "name": "python",
   "nbconvert_exporter": "python",
   "pygments_lexer": "ipython3",
   "version": "3.7.3"
  }
 },
 "nbformat": 4,
 "nbformat_minor": 5
}
