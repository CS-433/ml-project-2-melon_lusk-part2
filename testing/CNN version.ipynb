{
 "cells": [
  {
   "cell_type": "code",
   "execution_count": 1,
   "id": "c326b5a7-f9f2-472d-ba41-143bc07b236a",
   "metadata": {},
   "outputs": [],
   "source": [
    "import gzip\n",
    "import os\n",
    "import sys\n",
    "import urllib\n",
    "import matplotlib.image as mpimg\n",
    "from PIL import Image\n",
    "\n",
    "import code\n",
    "\n",
    "#import tensorflow.python.platform\n",
    "\n",
    "import numpy\n",
    "import tensorflow as tf\n",
    "import tensorflow.keras as keras\n",
    "from keras import layers, models, datasets,regularizers\n",
    "from helpers_images import * "
   ]
  },
  {
   "cell_type": "code",
   "execution_count": 35,
   "id": "6919d944-f34b-4eee-8ee6-9a2aba7872bf",
   "metadata": {},
   "outputs": [],
   "source": [
    "RATIO_VALIDATION = 0.1\n",
    "NUMBER_TRAINING_EXAMPLES = 100\n",
    "NUMBER_TEST_EXAMPLES = 50\n",
    "SAVE_MODEL = False\n",
    "LOAD_MODEL = False\n",
    "DATA_LOADED = False"
   ]
  },
  {
   "cell_type": "code",
   "execution_count": 3,
   "id": "7d11e509-03ca-40ee-8667-4ad3ea7f4e80",
   "metadata": {},
   "outputs": [
    {
     "name": "stdout",
     "output_type": "stream",
     "text": [
      "Loading ../data/training/images/satImage_001.png\n",
      "Loading ../data/training/images/satImage_002.png\n",
      "Loading ../data/training/images/satImage_003.png\n",
      "Loading ../data/training/images/satImage_004.png\n",
      "Loading ../data/training/images/satImage_005.png\n",
      "Loading ../data/training/images/satImage_006.png\n",
      "Loading ../data/training/images/satImage_007.png\n",
      "Loading ../data/training/images/satImage_008.png\n",
      "Loading ../data/training/images/satImage_009.png\n",
      "Loading ../data/training/images/satImage_010.png\n",
      "Loading ../data/training/images/satImage_011.png\n",
      "Loading ../data/training/images/satImage_012.png\n",
      "Loading ../data/training/images/satImage_013.png\n",
      "Loading ../data/training/images/satImage_014.png\n",
      "Loading ../data/training/images/satImage_015.png\n",
      "Loading ../data/training/images/satImage_016.png\n",
      "Loading ../data/training/images/satImage_017.png\n",
      "Loading ../data/training/images/satImage_018.png\n",
      "Loading ../data/training/images/satImage_019.png\n",
      "Loading ../data/training/images/satImage_020.png\n",
      "Loading ../data/training/images/satImage_021.png\n",
      "Loading ../data/training/images/satImage_022.png\n",
      "Loading ../data/training/images/satImage_023.png\n",
      "Loading ../data/training/images/satImage_024.png\n",
      "Loading ../data/training/images/satImage_025.png\n",
      "Loading ../data/training/images/satImage_026.png\n",
      "Loading ../data/training/images/satImage_027.png\n",
      "Loading ../data/training/images/satImage_028.png\n",
      "Loading ../data/training/images/satImage_029.png\n",
      "Loading ../data/training/images/satImage_030.png\n",
      "Loading ../data/training/images/satImage_031.png\n",
      "Loading ../data/training/images/satImage_032.png\n",
      "Loading ../data/training/images/satImage_033.png\n",
      "Loading ../data/training/images/satImage_034.png\n",
      "Loading ../data/training/images/satImage_035.png\n",
      "Loading ../data/training/images/satImage_036.png\n",
      "Loading ../data/training/images/satImage_037.png\n",
      "Loading ../data/training/images/satImage_038.png\n",
      "Loading ../data/training/images/satImage_039.png\n",
      "Loading ../data/training/images/satImage_040.png\n",
      "Loading ../data/training/images/satImage_041.png\n",
      "Loading ../data/training/images/satImage_042.png\n",
      "Loading ../data/training/images/satImage_043.png\n",
      "Loading ../data/training/images/satImage_044.png\n",
      "Loading ../data/training/images/satImage_045.png\n",
      "Loading ../data/training/images/satImage_046.png\n",
      "Loading ../data/training/images/satImage_047.png\n",
      "Loading ../data/training/images/satImage_048.png\n",
      "Loading ../data/training/images/satImage_049.png\n",
      "Loading ../data/training/images/satImage_050.png\n",
      "Loading ../data/training/images/satImage_051.png\n",
      "Loading ../data/training/images/satImage_052.png\n",
      "Loading ../data/training/images/satImage_053.png\n",
      "Loading ../data/training/images/satImage_054.png\n",
      "Loading ../data/training/images/satImage_055.png\n",
      "Loading ../data/training/images/satImage_056.png\n",
      "Loading ../data/training/images/satImage_057.png\n",
      "Loading ../data/training/images/satImage_058.png\n",
      "Loading ../data/training/images/satImage_059.png\n",
      "Loading ../data/training/images/satImage_060.png\n",
      "Loading ../data/training/images/satImage_061.png\n",
      "Loading ../data/training/images/satImage_062.png\n",
      "Loading ../data/training/images/satImage_063.png\n",
      "Loading ../data/training/images/satImage_064.png\n",
      "Loading ../data/training/images/satImage_065.png\n",
      "Loading ../data/training/images/satImage_066.png\n",
      "Loading ../data/training/images/satImage_067.png\n",
      "Loading ../data/training/images/satImage_068.png\n",
      "Loading ../data/training/images/satImage_069.png\n",
      "Loading ../data/training/images/satImage_070.png\n",
      "Loading ../data/training/images/satImage_071.png\n",
      "Loading ../data/training/images/satImage_072.png\n",
      "Loading ../data/training/images/satImage_073.png\n",
      "Loading ../data/training/images/satImage_074.png\n",
      "Loading ../data/training/images/satImage_075.png\n",
      "Loading ../data/training/images/satImage_076.png\n",
      "Loading ../data/training/images/satImage_077.png\n",
      "Loading ../data/training/images/satImage_078.png\n",
      "Loading ../data/training/images/satImage_079.png\n",
      "Loading ../data/training/images/satImage_080.png\n",
      "Loading ../data/training/images/satImage_081.png\n",
      "Loading ../data/training/images/satImage_082.png\n",
      "Loading ../data/training/images/satImage_083.png\n",
      "Loading ../data/training/images/satImage_084.png\n",
      "Loading ../data/training/images/satImage_085.png\n",
      "Loading ../data/training/images/satImage_086.png\n",
      "Loading ../data/training/images/satImage_087.png\n",
      "Loading ../data/training/images/satImage_088.png\n",
      "Loading ../data/training/images/satImage_089.png\n",
      "Loading ../data/training/images/satImage_090.png\n",
      "Loading ../data/training/images/satImage_091.png\n",
      "Loading ../data/training/images/satImage_092.png\n",
      "Loading ../data/training/images/satImage_093.png\n",
      "Loading ../data/training/images/satImage_094.png\n",
      "Loading ../data/training/images/satImage_095.png\n",
      "Loading ../data/training/images/satImage_096.png\n",
      "Loading ../data/training/images/satImage_097.png\n",
      "Loading ../data/training/images/satImage_098.png\n",
      "Loading ../data/training/images/satImage_099.png\n",
      "Loading ../data/training/images/satImage_100.png\n",
      "Loading ../data/training/groundtruth/satImage_001.png\n",
      "Loading ../data/training/groundtruth/satImage_002.png\n",
      "Loading ../data/training/groundtruth/satImage_003.png\n",
      "Loading ../data/training/groundtruth/satImage_004.png\n",
      "Loading ../data/training/groundtruth/satImage_005.png\n",
      "Loading ../data/training/groundtruth/satImage_006.png\n",
      "Loading ../data/training/groundtruth/satImage_007.png\n",
      "Loading ../data/training/groundtruth/satImage_008.png\n",
      "Loading ../data/training/groundtruth/satImage_009.png\n",
      "Loading ../data/training/groundtruth/satImage_010.png\n",
      "Loading ../data/training/groundtruth/satImage_011.png\n",
      "Loading ../data/training/groundtruth/satImage_012.png\n",
      "Loading ../data/training/groundtruth/satImage_013.png\n",
      "Loading ../data/training/groundtruth/satImage_014.png\n",
      "Loading ../data/training/groundtruth/satImage_015.png\n",
      "Loading ../data/training/groundtruth/satImage_016.png\n",
      "Loading ../data/training/groundtruth/satImage_017.png\n",
      "Loading ../data/training/groundtruth/satImage_018.png\n",
      "Loading ../data/training/groundtruth/satImage_019.png\n",
      "Loading ../data/training/groundtruth/satImage_020.png\n",
      "Loading ../data/training/groundtruth/satImage_021.png\n",
      "Loading ../data/training/groundtruth/satImage_022.png\n",
      "Loading ../data/training/groundtruth/satImage_023.png\n",
      "Loading ../data/training/groundtruth/satImage_024.png\n",
      "Loading ../data/training/groundtruth/satImage_025.png\n",
      "Loading ../data/training/groundtruth/satImage_026.png\n",
      "Loading ../data/training/groundtruth/satImage_027.png\n",
      "Loading ../data/training/groundtruth/satImage_028.png\n",
      "Loading ../data/training/groundtruth/satImage_029.png\n",
      "Loading ../data/training/groundtruth/satImage_030.png\n",
      "Loading ../data/training/groundtruth/satImage_031.png\n",
      "Loading ../data/training/groundtruth/satImage_032.png\n",
      "Loading ../data/training/groundtruth/satImage_033.png\n",
      "Loading ../data/training/groundtruth/satImage_034.png\n",
      "Loading ../data/training/groundtruth/satImage_035.png\n",
      "Loading ../data/training/groundtruth/satImage_036.png\n",
      "Loading ../data/training/groundtruth/satImage_037.png\n",
      "Loading ../data/training/groundtruth/satImage_038.png\n",
      "Loading ../data/training/groundtruth/satImage_039.png\n",
      "Loading ../data/training/groundtruth/satImage_040.png\n",
      "Loading ../data/training/groundtruth/satImage_041.png\n",
      "Loading ../data/training/groundtruth/satImage_042.png\n",
      "Loading ../data/training/groundtruth/satImage_043.png\n",
      "Loading ../data/training/groundtruth/satImage_044.png\n",
      "Loading ../data/training/groundtruth/satImage_045.png\n",
      "Loading ../data/training/groundtruth/satImage_046.png\n",
      "Loading ../data/training/groundtruth/satImage_047.png\n",
      "Loading ../data/training/groundtruth/satImage_048.png\n",
      "Loading ../data/training/groundtruth/satImage_049.png\n",
      "Loading ../data/training/groundtruth/satImage_050.png\n",
      "Loading ../data/training/groundtruth/satImage_051.png\n",
      "Loading ../data/training/groundtruth/satImage_052.png\n",
      "Loading ../data/training/groundtruth/satImage_053.png\n",
      "Loading ../data/training/groundtruth/satImage_054.png\n",
      "Loading ../data/training/groundtruth/satImage_055.png\n",
      "Loading ../data/training/groundtruth/satImage_056.png\n",
      "Loading ../data/training/groundtruth/satImage_057.png\n",
      "Loading ../data/training/groundtruth/satImage_058.png\n",
      "Loading ../data/training/groundtruth/satImage_059.png\n",
      "Loading ../data/training/groundtruth/satImage_060.png\n",
      "Loading ../data/training/groundtruth/satImage_061.png\n",
      "Loading ../data/training/groundtruth/satImage_062.png\n",
      "Loading ../data/training/groundtruth/satImage_063.png\n",
      "Loading ../data/training/groundtruth/satImage_064.png\n",
      "Loading ../data/training/groundtruth/satImage_065.png\n",
      "Loading ../data/training/groundtruth/satImage_066.png\n",
      "Loading ../data/training/groundtruth/satImage_067.png\n",
      "Loading ../data/training/groundtruth/satImage_068.png\n",
      "Loading ../data/training/groundtruth/satImage_069.png\n",
      "Loading ../data/training/groundtruth/satImage_070.png\n",
      "Loading ../data/training/groundtruth/satImage_071.png\n",
      "Loading ../data/training/groundtruth/satImage_072.png\n",
      "Loading ../data/training/groundtruth/satImage_073.png\n",
      "Loading ../data/training/groundtruth/satImage_074.png\n",
      "Loading ../data/training/groundtruth/satImage_075.png\n",
      "Loading ../data/training/groundtruth/satImage_076.png\n",
      "Loading ../data/training/groundtruth/satImage_077.png\n",
      "Loading ../data/training/groundtruth/satImage_078.png\n",
      "Loading ../data/training/groundtruth/satImage_079.png\n",
      "Loading ../data/training/groundtruth/satImage_080.png\n",
      "Loading ../data/training/groundtruth/satImage_081.png\n",
      "Loading ../data/training/groundtruth/satImage_082.png\n",
      "Loading ../data/training/groundtruth/satImage_083.png\n",
      "Loading ../data/training/groundtruth/satImage_084.png\n"
     ]
    },
    {
     "name": "stdout",
     "output_type": "stream",
     "text": [
      "Loading ../data/training/groundtruth/satImage_085.png\n",
      "Loading ../data/training/groundtruth/satImage_086.png\n",
      "Loading ../data/training/groundtruth/satImage_087.png\n",
      "Loading ../data/training/groundtruth/satImage_088.png\n",
      "Loading ../data/training/groundtruth/satImage_089.png\n",
      "Loading ../data/training/groundtruth/satImage_090.png\n",
      "Loading ../data/training/groundtruth/satImage_091.png\n",
      "Loading ../data/training/groundtruth/satImage_092.png\n",
      "Loading ../data/training/groundtruth/satImage_093.png\n",
      "Loading ../data/training/groundtruth/satImage_094.png\n",
      "Loading ../data/training/groundtruth/satImage_095.png\n",
      "Loading ../data/training/groundtruth/satImage_096.png\n",
      "Loading ../data/training/groundtruth/satImage_097.png\n",
      "Loading ../data/training/groundtruth/satImage_098.png\n",
      "Loading ../data/training/groundtruth/satImage_099.png\n",
      "Loading ../data/training/groundtruth/satImage_100.png\n",
      "(187500, 16, 16, 3)\n",
      "(187500, 2)\n"
     ]
    }
   ],
   "source": [
    "training_data_directory = \"../data/training/\"\n",
    "test_data_directory = \"../data/test_set_images/\"\n",
    "if not(DATA_LOADED):    \n",
    "    train_data, train_labels = extract_train_data(NUMBER_TRAINING_EXAMPLES,True,True), extract_labels(training_data_directory, NUMBER_TRAINING_EXAMPLES,True,True)\n",
    "    DATA_LOADED = True\n",
    "\n",
    "print(train_data.shape)\n",
    "print(train_labels.shape)"
   ]
  },
  {
   "cell_type": "code",
   "execution_count": 4,
   "id": "b427ab67-b89c-46d0-86af-fc347a19e2cc",
   "metadata": {},
   "outputs": [
    {
     "data": {
      "text/plain": [
       "(138926, 48574)"
      ]
     },
     "execution_count": 4,
     "metadata": {},
     "output_type": "execute_result"
    }
   ],
   "source": [
    "c0 = 0\n",
    "c1 = 0\n",
    "for label in train_labels:\n",
    "    if label[0] == 1:\n",
    "        c0 += 1\n",
    "    else:\n",
    "        c1+= 1\n",
    "c0, c1        "
   ]
  },
  {
   "cell_type": "code",
   "execution_count": 5,
   "id": "af613011-6640-49fb-bc6e-d3ee15d2f173",
   "metadata": {},
   "outputs": [],
   "source": [
    "def build_model():\n",
    "    model = keras.Sequential()\n",
    "    #model.add(layers.RandomFlip(\"horizontal_and_vertical\"))\n",
    "    #model.add(layers.RandomFlip(\"horizontal\"))\n",
    "    model.add(layers.RandomZoom(-0.3))\n",
    "    model.add(layers.Conv2D(64, (1, 1), activation='elu', padding = \"same\"))\n",
    "    model.add(layers.MaxPooling2D((2, 2)))\n",
    "    model.add(layers.Conv2D(128, (1, 1), activation='elu', padding = \"same\"))\n",
    "    model.add(layers.MaxPooling2D((2, 2)))\n",
    "    model.add(layers.Conv2D(256, (1, 1), activation='elu', padding = \"same\"))\n",
    "    model.add(layers.MaxPooling2D((2, 2)))\n",
    "    model.add(layers.Conv2D(512, (1, 1), activation='elu', padding = \"same\"))\n",
    "    model.add(layers.MaxPooling2D((2, 2)))\n",
    "    model.add(layers.Flatten())\n",
    "    model.add(layers.Dense(2))\n",
    "    model.add(layers.Softmax())\n",
    "    return model"
   ]
  },
  {
   "cell_type": "code",
   "execution_count": 6,
   "id": "2e2d5274",
   "metadata": {},
   "outputs": [],
   "source": [
    "from keras import backend as K\n",
    "\n",
    "def recall_m(y_true, y_pred):\n",
    "    true_positives = K.sum(K.round(K.clip(y_true * y_pred, 0, 1)))\n",
    "    possible_positives = K.sum(K.round(K.clip(y_true, 0, 1)))\n",
    "    recall = true_positives / (possible_positives + K.epsilon())\n",
    "    return recall\n",
    "\n",
    "def precision_m(y_true, y_pred):\n",
    "    true_positives = K.sum(K.round(K.clip(y_true * y_pred, 0, 1)))\n",
    "    predicted_positives = K.sum(K.round(K.clip(y_pred, 0, 1)))\n",
    "    precision = true_positives / (predicted_positives + K.epsilon())\n",
    "    return precision\n",
    "\n",
    "def f1_score(y_true, y_pred):\n",
    "    precision = precision_m(y_true, y_pred)\n",
    "    recall = recall_m(y_true, y_pred)\n",
    "    return 2*((precision*recall)/(precision+recall+K.epsilon()))"
   ]
  },
  {
   "cell_type": "code",
   "execution_count": 7,
   "id": "cafbe88e-03b6-4113-b876-a6c8534ba8fd",
   "metadata": {},
   "outputs": [
    {
     "name": "stdout",
     "output_type": "stream",
     "text": [
      "Model: \"sequential\"\n",
      "_________________________________________________________________\n",
      " Layer (type)                Output Shape              Param #   \n",
      "=================================================================\n",
      " random_zoom (RandomZoom)    (187500, 16, 16, 3)       0         \n",
      "                                                                 \n",
      " conv2d (Conv2D)             (187500, 16, 16, 64)      256       \n",
      "                                                                 \n",
      " max_pooling2d (MaxPooling2D  (187500, 8, 8, 64)       0         \n",
      " )                                                               \n",
      "                                                                 \n",
      " conv2d_1 (Conv2D)           (187500, 8, 8, 128)       8320      \n",
      "                                                                 \n",
      " max_pooling2d_1 (MaxPooling  (187500, 4, 4, 128)      0         \n",
      " 2D)                                                             \n",
      "                                                                 \n",
      " conv2d_2 (Conv2D)           (187500, 4, 4, 256)       33024     \n",
      "                                                                 \n",
      " max_pooling2d_2 (MaxPooling  (187500, 2, 2, 256)      0         \n",
      " 2D)                                                             \n",
      "                                                                 \n",
      " conv2d_3 (Conv2D)           (187500, 2, 2, 512)       131584    \n",
      "                                                                 \n",
      " max_pooling2d_3 (MaxPooling  (187500, 1, 1, 512)      0         \n",
      " 2D)                                                             \n",
      "                                                                 \n",
      " flatten (Flatten)           (187500, 512)             0         \n",
      "                                                                 \n",
      " dense (Dense)               (187500, 2)               1026      \n",
      "                                                                 \n",
      " softmax (Softmax)           (187500, 2)               0         \n",
      "                                                                 \n",
      "=================================================================\n",
      "Total params: 174,210\n",
      "Trainable params: 174,210\n",
      "Non-trainable params: 0\n",
      "_________________________________________________________________\n"
     ]
    }
   ],
   "source": [
    "model = build_model()\n",
    "model.build(input_shape=(187500, 16, 16, 3))\n",
    "model.summary()\n",
    "model.compile(optimizer='adamax',\n",
    "            loss= tf.keras.losses.CategoricalCrossentropy(from_logits=False),\n",
    "            metrics=[f1_score, 'accuracy'])"
   ]
  },
  {
   "cell_type": "code",
   "execution_count": 8,
   "id": "efdf4014-1fb4-4bf2-885e-4d2f99c50cb7",
   "metadata": {
    "tags": []
   },
   "outputs": [
    {
     "data": {
      "text/plain": [
       "[<keras.layers.preprocessing.image_preprocessing.RandomZoom at 0x2d59fbaf6d0>,\n",
       " <keras.layers.convolutional.Conv2D at 0x2d59fbb6850>,\n",
       " <keras.layers.pooling.MaxPooling2D at 0x2d59fbb6a90>,\n",
       " <keras.layers.convolutional.Conv2D at 0x2d59fbb6790>,\n",
       " <keras.layers.pooling.MaxPooling2D at 0x2d59fbb69d0>,\n",
       " <keras.layers.convolutional.Conv2D at 0x2d595b24e20>,\n",
       " <keras.layers.pooling.MaxPooling2D at 0x2d595b24a00>,\n",
       " <keras.layers.convolutional.Conv2D at 0x2d59fb2ca30>,\n",
       " <keras.layers.pooling.MaxPooling2D at 0x2d59fb2c670>,\n",
       " <keras.layers.core.flatten.Flatten at 0x2d59fb2c730>,\n",
       " <keras.layers.core.dense.Dense at 0x2d5cb2f4280>,\n",
       " <keras.layers.advanced_activations.Softmax at 0x2d5cb2f4610>]"
      ]
     },
     "execution_count": 8,
     "metadata": {},
     "output_type": "execute_result"
    }
   ],
   "source": [
    "model.layers"
   ]
  },
  {
   "cell_type": "code",
   "execution_count": 9,
   "id": "32738c27-15aa-4933-86b2-c380633a1f38",
   "metadata": {
    "scrolled": true
   },
   "outputs": [
    {
     "name": "stdout",
     "output_type": "stream",
     "text": [
      "Epoch 1/100\n",
      "5274/5274 [==============================] - 70s 13ms/step - loss: 0.5021 - f1_score: 0.7579 - accuracy: 0.7579 - val_loss: 0.4403 - val_f1_score: 0.8040 - val_accuracy: 0.8040\n",
      "Epoch 2/100\n",
      "5274/5274 [==============================] - 49s 9ms/step - loss: 0.4385 - f1_score: 0.7957 - accuracy: 0.7957 - val_loss: 0.4278 - val_f1_score: 0.7937 - val_accuracy: 0.7937\n",
      "Epoch 3/100\n",
      "5274/5274 [==============================] - 48s 9ms/step - loss: 0.4241 - f1_score: 0.8016 - accuracy: 0.8017 - val_loss: 0.4211 - val_f1_score: 0.8051 - val_accuracy: 0.8052\n",
      "Epoch 4/100\n",
      "5274/5274 [==============================] - 49s 9ms/step - loss: 0.4130 - f1_score: 0.8067 - accuracy: 0.8067 - val_loss: 0.3943 - val_f1_score: 0.8227 - val_accuracy: 0.8227\n",
      "Epoch 5/100\n",
      "5274/5274 [==============================] - 50s 9ms/step - loss: 0.4020 - f1_score: 0.8122 - accuracy: 0.8123 - val_loss: 0.3885 - val_f1_score: 0.8234 - val_accuracy: 0.8235\n",
      "Epoch 6/100\n",
      "5274/5274 [==============================] - 48s 9ms/step - loss: 0.3922 - f1_score: 0.8162 - accuracy: 0.8162 - val_loss: 0.3901 - val_f1_score: 0.8198 - val_accuracy: 0.8198\n",
      "Epoch 7/100\n",
      "5274/5274 [==============================] - 49s 9ms/step - loss: 0.3852 - f1_score: 0.8199 - accuracy: 0.8199 - val_loss: 0.3767 - val_f1_score: 0.8264 - val_accuracy: 0.8264\n",
      "Epoch 8/100\n",
      "5274/5274 [==============================] - 52s 10ms/step - loss: 0.3789 - f1_score: 0.8238 - accuracy: 0.8238 - val_loss: 0.3694 - val_f1_score: 0.8328 - val_accuracy: 0.8329\n",
      "Epoch 9/100\n",
      "5274/5274 [==============================] - 50s 10ms/step - loss: 0.3742 - f1_score: 0.8258 - accuracy: 0.8258 - val_loss: 0.3741 - val_f1_score: 0.8241 - val_accuracy: 0.8242\n",
      "Epoch 10/100\n",
      "5274/5274 [==============================] - 52s 10ms/step - loss: 0.3692 - f1_score: 0.8290 - accuracy: 0.8290 - val_loss: 0.3896 - val_f1_score: 0.8125 - val_accuracy: 0.8125\n",
      "Epoch 11/100\n",
      "5274/5274 [==============================] - 52s 10ms/step - loss: 0.3650 - f1_score: 0.8311 - accuracy: 0.8311 - val_loss: 0.3502 - val_f1_score: 0.8448 - val_accuracy: 0.8449\n",
      "Epoch 12/100\n",
      "5274/5274 [==============================] - 49s 9ms/step - loss: 0.3626 - f1_score: 0.8329 - accuracy: 0.8329 - val_loss: 0.3488 - val_f1_score: 0.8439 - val_accuracy: 0.8439\n",
      "Epoch 13/100\n",
      "5274/5274 [==============================] - 49s 9ms/step - loss: 0.3587 - f1_score: 0.8352 - accuracy: 0.8352 - val_loss: 0.3517 - val_f1_score: 0.8441 - val_accuracy: 0.8441\n",
      "Epoch 14/100\n",
      "5274/5274 [==============================] - 50s 9ms/step - loss: 0.3564 - f1_score: 0.8363 - accuracy: 0.8363 - val_loss: 0.3448 - val_f1_score: 0.8431 - val_accuracy: 0.8431\n",
      "Epoch 15/100\n",
      "5274/5274 [==============================] - 51s 10ms/step - loss: 0.3536 - f1_score: 0.8380 - accuracy: 0.8380 - val_loss: 0.3615 - val_f1_score: 0.8316 - val_accuracy: 0.8316\n",
      "Epoch 16/100\n",
      "5274/5274 [==============================] - 49s 9ms/step - loss: 0.3518 - f1_score: 0.8394 - accuracy: 0.8394 - val_loss: 0.3532 - val_f1_score: 0.8415 - val_accuracy: 0.8415\n",
      "Epoch 17/100\n",
      "5274/5274 [==============================] - 47s 9ms/step - loss: 0.3489 - f1_score: 0.8414 - accuracy: 0.8414 - val_loss: 0.3466 - val_f1_score: 0.8446 - val_accuracy: 0.8446\n",
      "Epoch 18/100\n",
      "5274/5274 [==============================] - 47s 9ms/step - loss: 0.3461 - f1_score: 0.8421 - accuracy: 0.8421 - val_loss: 0.3434 - val_f1_score: 0.8470 - val_accuracy: 0.8470\n",
      "Epoch 19/100\n",
      "5274/5274 [==============================] - 51s 10ms/step - loss: 0.3436 - f1_score: 0.8437 - accuracy: 0.8437 - val_loss: 0.3509 - val_f1_score: 0.8452 - val_accuracy: 0.8452\n",
      "Epoch 20/100\n",
      "5274/5274 [==============================] - 48s 9ms/step - loss: 0.3418 - f1_score: 0.8456 - accuracy: 0.8456 - val_loss: 0.3491 - val_f1_score: 0.8424 - val_accuracy: 0.8425\n",
      "Epoch 21/100\n",
      "5274/5274 [==============================] - 47s 9ms/step - loss: 0.3392 - f1_score: 0.8467 - accuracy: 0.8467 - val_loss: 0.3422 - val_f1_score: 0.8505 - val_accuracy: 0.8505\n",
      "Epoch 22/100\n",
      "5274/5274 [==============================] - 47s 9ms/step - loss: 0.3374 - f1_score: 0.8478 - accuracy: 0.8478 - val_loss: 0.3500 - val_f1_score: 0.8478 - val_accuracy: 0.8478\n",
      "Epoch 23/100\n",
      "5274/5274 [==============================] - 47s 9ms/step - loss: 0.3361 - f1_score: 0.8484 - accuracy: 0.8484 - val_loss: 0.3433 - val_f1_score: 0.8478 - val_accuracy: 0.8478\n",
      "Epoch 24/100\n",
      "5274/5274 [==============================] - 47s 9ms/step - loss: 0.3347 - f1_score: 0.8486 - accuracy: 0.8486 - val_loss: 0.3368 - val_f1_score: 0.8485 - val_accuracy: 0.8485\n",
      "Epoch 25/100\n",
      "5274/5274 [==============================] - 47s 9ms/step - loss: 0.3327 - f1_score: 0.8493 - accuracy: 0.8493 - val_loss: 0.3419 - val_f1_score: 0.8506 - val_accuracy: 0.8506\n",
      "Epoch 26/100\n",
      "5274/5274 [==============================] - 50s 9ms/step - loss: 0.3328 - f1_score: 0.8497 - accuracy: 0.8497 - val_loss: 0.3549 - val_f1_score: 0.8389 - val_accuracy: 0.8389\n",
      "Epoch 27/100\n",
      "5274/5274 [==============================] - 49s 9ms/step - loss: 0.3304 - f1_score: 0.8512 - accuracy: 0.8512 - val_loss: 0.3367 - val_f1_score: 0.8497 - val_accuracy: 0.8498\n",
      "Epoch 28/100\n",
      "5274/5274 [==============================] - 50s 9ms/step - loss: 0.3291 - f1_score: 0.8524 - accuracy: 0.8523 - val_loss: 0.3243 - val_f1_score: 0.8589 - val_accuracy: 0.8589\n",
      "Epoch 29/100\n",
      "5274/5274 [==============================] - 49s 9ms/step - loss: 0.3286 - f1_score: 0.8512 - accuracy: 0.8512 - val_loss: 0.3296 - val_f1_score: 0.8526 - val_accuracy: 0.8526\n",
      "Epoch 30/100\n",
      "5274/5274 [==============================] - 48s 9ms/step - loss: 0.3264 - f1_score: 0.8529 - accuracy: 0.8528 - val_loss: 0.3282 - val_f1_score: 0.8538 - val_accuracy: 0.8538\n",
      "Epoch 31/100\n",
      "5274/5274 [==============================] - 50s 9ms/step - loss: 0.3258 - f1_score: 0.8539 - accuracy: 0.8539 - val_loss: 0.3170 - val_f1_score: 0.8601 - val_accuracy: 0.8602\n",
      "Epoch 32/100\n",
      "5274/5274 [==============================] - 51s 10ms/step - loss: 0.3227 - f1_score: 0.8553 - accuracy: 0.8553 - val_loss: 0.3284 - val_f1_score: 0.8526 - val_accuracy: 0.8526\n",
      "Epoch 33/100\n",
      "5274/5274 [==============================] - 49s 9ms/step - loss: 0.3223 - f1_score: 0.8543 - accuracy: 0.8543 - val_loss: 0.3220 - val_f1_score: 0.8571 - val_accuracy: 0.8571\n",
      "Epoch 34/100\n",
      "5274/5274 [==============================] - 50s 10ms/step - loss: 0.3204 - f1_score: 0.8558 - accuracy: 0.8558 - val_loss: 0.3307 - val_f1_score: 0.8526 - val_accuracy: 0.8526\n",
      "Epoch 35/100\n",
      "5274/5274 [==============================] - 50s 9ms/step - loss: 0.3193 - f1_score: 0.8570 - accuracy: 0.8570 - val_loss: 0.3227 - val_f1_score: 0.8568 - val_accuracy: 0.8569\n",
      "Epoch 36/100\n",
      "5274/5274 [==============================] - 50s 10ms/step - loss: 0.3177 - f1_score: 0.8576 - accuracy: 0.8576 - val_loss: 0.3071 - val_f1_score: 0.8673 - val_accuracy: 0.8674\n",
      "Epoch 37/100\n",
      "5274/5274 [==============================] - 50s 10ms/step - loss: 0.3162 - f1_score: 0.8583 - accuracy: 0.8583 - val_loss: 0.3206 - val_f1_score: 0.8563 - val_accuracy: 0.8563\n",
      "Epoch 38/100\n",
      "5274/5274 [==============================] - 50s 10ms/step - loss: 0.3148 - f1_score: 0.8588 - accuracy: 0.8588 - val_loss: 0.3467 - val_f1_score: 0.8478 - val_accuracy: 0.8478\n",
      "Epoch 39/100\n",
      "5274/5274 [==============================] - 50s 9ms/step - loss: 0.3155 - f1_score: 0.8587 - accuracy: 0.8587 - val_loss: 0.3043 - val_f1_score: 0.8674 - val_accuracy: 0.8675\n",
      "Epoch 40/100\n",
      "5274/5274 [==============================] - 52s 10ms/step - loss: 0.3128 - f1_score: 0.8598 - accuracy: 0.8598 - val_loss: 0.3006 - val_f1_score: 0.8687 - val_accuracy: 0.8687\n",
      "Epoch 41/100\n",
      "5274/5274 [==============================] - 50s 9ms/step - loss: 0.3118 - f1_score: 0.8603 - accuracy: 0.8603 - val_loss: 0.3121 - val_f1_score: 0.8643 - val_accuracy: 0.8643\n",
      "Epoch 42/100\n",
      "5274/5274 [==============================] - 50s 9ms/step - loss: 0.3096 - f1_score: 0.8610 - accuracy: 0.8610 - val_loss: 0.3015 - val_f1_score: 0.8680 - val_accuracy: 0.8681\n",
      "Epoch 43/100\n",
      "5274/5274 [==============================] - 50s 10ms/step - loss: 0.3093 - f1_score: 0.8625 - accuracy: 0.8625 - val_loss: 0.3166 - val_f1_score: 0.8583 - val_accuracy: 0.8583\n",
      "Epoch 44/100\n"
     ]
    },
    {
     "name": "stdout",
     "output_type": "stream",
     "text": [
      "5274/5274 [==============================] - 49s 9ms/step - loss: 0.3086 - f1_score: 0.8617 - accuracy: 0.8618 - val_loss: 0.3194 - val_f1_score: 0.8586 - val_accuracy: 0.8586\n",
      "Epoch 45/100\n",
      "5274/5274 [==============================] - 49s 9ms/step - loss: 0.3070 - f1_score: 0.8635 - accuracy: 0.8635 - val_loss: 0.3090 - val_f1_score: 0.8635 - val_accuracy: 0.8635\n",
      "Epoch 46/100\n",
      "5274/5274 [==============================] - 50s 9ms/step - loss: 0.3061 - f1_score: 0.8637 - accuracy: 0.8637 - val_loss: 0.3104 - val_f1_score: 0.8656 - val_accuracy: 0.8656\n",
      "Epoch 47/100\n",
      "5274/5274 [==============================] - 49s 9ms/step - loss: 0.3040 - f1_score: 0.8650 - accuracy: 0.8650 - val_loss: 0.3081 - val_f1_score: 0.8634 - val_accuracy: 0.8634\n",
      "Epoch 48/100\n",
      "5274/5274 [==============================] - 49s 9ms/step - loss: 0.3041 - f1_score: 0.8650 - accuracy: 0.8650 - val_loss: 0.2981 - val_f1_score: 0.8688 - val_accuracy: 0.8688\n",
      "Epoch 49/100\n",
      "5274/5274 [==============================] - 49s 9ms/step - loss: 0.3015 - f1_score: 0.8665 - accuracy: 0.8665 - val_loss: 0.3125 - val_f1_score: 0.8647 - val_accuracy: 0.8647\n",
      "Epoch 50/100\n",
      "5274/5274 [==============================] - 49s 9ms/step - loss: 0.3004 - f1_score: 0.8664 - accuracy: 0.8664 - val_loss: 0.3332 - val_f1_score: 0.8499 - val_accuracy: 0.8499\n",
      "Epoch 51/100\n",
      "5274/5274 [==============================] - 49s 9ms/step - loss: 0.2993 - f1_score: 0.8670 - accuracy: 0.8670 - val_loss: 0.3544 - val_f1_score: 0.8436 - val_accuracy: 0.8436\n",
      "Epoch 52/100\n",
      "5274/5274 [==============================] - 49s 9ms/step - loss: 0.2994 - f1_score: 0.8670 - accuracy: 0.8670 - val_loss: 0.3045 - val_f1_score: 0.8654 - val_accuracy: 0.8654\n",
      "Epoch 53/100\n",
      "5274/5274 [==============================] - 49s 9ms/step - loss: 0.2980 - f1_score: 0.8686 - accuracy: 0.8686 - val_loss: 0.3167 - val_f1_score: 0.8574 - val_accuracy: 0.8574\n",
      "Epoch 54/100\n",
      "5274/5274 [==============================] - 49s 9ms/step - loss: 0.2969 - f1_score: 0.8677 - accuracy: 0.8676 - val_loss: 0.2978 - val_f1_score: 0.8705 - val_accuracy: 0.8706\n",
      "Epoch 55/100\n",
      "5274/5274 [==============================] - 49s 9ms/step - loss: 0.2959 - f1_score: 0.8687 - accuracy: 0.8687 - val_loss: 0.3126 - val_f1_score: 0.8639 - val_accuracy: 0.8639\n",
      "Epoch 56/100\n",
      "5274/5274 [==============================] - 49s 9ms/step - loss: 0.2940 - f1_score: 0.8704 - accuracy: 0.8704 - val_loss: 0.3218 - val_f1_score: 0.8539 - val_accuracy: 0.8539\n",
      "Epoch 57/100\n",
      "5274/5274 [==============================] - 49s 9ms/step - loss: 0.2945 - f1_score: 0.8694 - accuracy: 0.8694 - val_loss: 0.2969 - val_f1_score: 0.8716 - val_accuracy: 0.8716\n",
      "Epoch 58/100\n",
      "5274/5274 [==============================] - 49s 9ms/step - loss: 0.2927 - f1_score: 0.8706 - accuracy: 0.8706 - val_loss: 0.3220 - val_f1_score: 0.8591 - val_accuracy: 0.8591\n",
      "Epoch 59/100\n",
      "5274/5274 [==============================] - 49s 9ms/step - loss: 0.2929 - f1_score: 0.8699 - accuracy: 0.8699 - val_loss: 0.3261 - val_f1_score: 0.8564 - val_accuracy: 0.8564\n",
      "Epoch 60/100\n",
      "5274/5274 [==============================] - 49s 9ms/step - loss: 0.2916 - f1_score: 0.8706 - accuracy: 0.8706 - val_loss: 0.2997 - val_f1_score: 0.8654 - val_accuracy: 0.8654\n",
      "Epoch 61/100\n",
      "5274/5274 [==============================] - 49s 9ms/step - loss: 0.2899 - f1_score: 0.8719 - accuracy: 0.8719 - val_loss: 0.3190 - val_f1_score: 0.8565 - val_accuracy: 0.8565\n",
      "Epoch 62/100\n",
      "5274/5274 [==============================] - 49s 9ms/step - loss: 0.2893 - f1_score: 0.8725 - accuracy: 0.8725 - val_loss: 0.3001 - val_f1_score: 0.8712 - val_accuracy: 0.8713\n",
      "Epoch 63/100\n",
      "5274/5274 [==============================] - 49s 9ms/step - loss: 0.2884 - f1_score: 0.8717 - accuracy: 0.8717 - val_loss: 0.2993 - val_f1_score: 0.8698 - val_accuracy: 0.8698\n",
      "Epoch 64/100\n",
      "5274/5274 [==============================] - 50s 9ms/step - loss: 0.2864 - f1_score: 0.8730 - accuracy: 0.8730 - val_loss: 0.2912 - val_f1_score: 0.8742 - val_accuracy: 0.8742\n",
      "Epoch 65/100\n",
      "5274/5274 [==============================] - 50s 10ms/step - loss: 0.2861 - f1_score: 0.8736 - accuracy: 0.8736 - val_loss: 0.2876 - val_f1_score: 0.8768 - val_accuracy: 0.8769\n",
      "Epoch 66/100\n",
      "5274/5274 [==============================] - 49s 9ms/step - loss: 0.2857 - f1_score: 0.8737 - accuracy: 0.8737 - val_loss: 0.2990 - val_f1_score: 0.8695 - val_accuracy: 0.8695\n",
      "Epoch 67/100\n",
      "5274/5274 [==============================] - 49s 9ms/step - loss: 0.2856 - f1_score: 0.8743 - accuracy: 0.8743 - val_loss: 0.3020 - val_f1_score: 0.8704 - val_accuracy: 0.8704\n",
      "Epoch 68/100\n",
      "5274/5274 [==============================] - 49s 9ms/step - loss: 0.2821 - f1_score: 0.8752 - accuracy: 0.8752 - val_loss: 0.2808 - val_f1_score: 0.8796 - val_accuracy: 0.8796\n",
      "Epoch 69/100\n",
      "5274/5274 [==============================] - 48s 9ms/step - loss: 0.2838 - f1_score: 0.8752 - accuracy: 0.8752 - val_loss: 0.2912 - val_f1_score: 0.8704 - val_accuracy: 0.8704\n",
      "Epoch 70/100\n",
      "5274/5274 [==============================] - 48s 9ms/step - loss: 0.2820 - f1_score: 0.8753 - accuracy: 0.8753 - val_loss: 0.2810 - val_f1_score: 0.8779 - val_accuracy: 0.8779\n",
      "Epoch 71/100\n",
      "5274/5274 [==============================] - 48s 9ms/step - loss: 0.2806 - f1_score: 0.8759 - accuracy: 0.8760 - val_loss: 0.2940 - val_f1_score: 0.8744 - val_accuracy: 0.8745\n",
      "Epoch 72/100\n",
      "5274/5274 [==============================] - 48s 9ms/step - loss: 0.2801 - f1_score: 0.8760 - accuracy: 0.8761 - val_loss: 0.3044 - val_f1_score: 0.8641 - val_accuracy: 0.8641\n",
      "Epoch 73/100\n",
      "5274/5274 [==============================] - 48s 9ms/step - loss: 0.2787 - f1_score: 0.8766 - accuracy: 0.8766 - val_loss: 0.2816 - val_f1_score: 0.8760 - val_accuracy: 0.8761\n",
      "Epoch 74/100\n",
      "5274/5274 [==============================] - 48s 9ms/step - loss: 0.2780 - f1_score: 0.8774 - accuracy: 0.8774 - val_loss: 0.2824 - val_f1_score: 0.8778 - val_accuracy: 0.8778\n",
      "Epoch 75/100\n",
      "5274/5274 [==============================] - 47s 9ms/step - loss: 0.2759 - f1_score: 0.8794 - accuracy: 0.8794 - val_loss: 0.3156 - val_f1_score: 0.8577 - val_accuracy: 0.8577\n",
      "Epoch 76/100\n",
      "5274/5274 [==============================] - 48s 9ms/step - loss: 0.2754 - f1_score: 0.8793 - accuracy: 0.8793 - val_loss: 0.2805 - val_f1_score: 0.8781 - val_accuracy: 0.8781\n",
      "Epoch 77/100\n",
      "5274/5274 [==============================] - 48s 9ms/step - loss: 0.2754 - f1_score: 0.8786 - accuracy: 0.8786 - val_loss: 0.2803 - val_f1_score: 0.8780 - val_accuracy: 0.8780\n",
      "Epoch 78/100\n",
      "5274/5274 [==============================] - 48s 9ms/step - loss: 0.2743 - f1_score: 0.8795 - accuracy: 0.8795 - val_loss: 0.2714 - val_f1_score: 0.8838 - val_accuracy: 0.8838\n",
      "Epoch 79/100\n",
      "5274/5274 [==============================] - 48s 9ms/step - loss: 0.2731 - f1_score: 0.8789 - accuracy: 0.8789 - val_loss: 0.2731 - val_f1_score: 0.8806 - val_accuracy: 0.8806\n",
      "Epoch 80/100\n",
      "5274/5274 [==============================] - 47s 9ms/step - loss: 0.2739 - f1_score: 0.8799 - accuracy: 0.8799 - val_loss: 0.2762 - val_f1_score: 0.8820 - val_accuracy: 0.8820\n",
      "Epoch 81/100\n",
      "5274/5274 [==============================] - 48s 9ms/step - loss: 0.2708 - f1_score: 0.8809 - accuracy: 0.8809 - val_loss: 0.2752 - val_f1_score: 0.8811 - val_accuracy: 0.8811\n",
      "Epoch 82/100\n",
      "5274/5274 [==============================] - 48s 9ms/step - loss: 0.2685 - f1_score: 0.8823 - accuracy: 0.8823 - val_loss: 0.2820 - val_f1_score: 0.8784 - val_accuracy: 0.8784\n",
      "Epoch 83/100\n",
      "5274/5274 [==============================] - 48s 9ms/step - loss: 0.2694 - f1_score: 0.8814 - accuracy: 0.8814 - val_loss: 0.2701 - val_f1_score: 0.8815 - val_accuracy: 0.8815\n",
      "Epoch 84/100\n",
      "5274/5274 [==============================] - 47s 9ms/step - loss: 0.2682 - f1_score: 0.8820 - accuracy: 0.8820 - val_loss: 0.2737 - val_f1_score: 0.8817 - val_accuracy: 0.8817\n",
      "Epoch 85/100\n",
      "5274/5274 [==============================] - 47s 9ms/step - loss: 0.2679 - f1_score: 0.8828 - accuracy: 0.8828 - val_loss: 0.2822 - val_f1_score: 0.8755 - val_accuracy: 0.8755\n",
      "Epoch 86/100\n",
      "5274/5274 [==============================] - 48s 9ms/step - loss: 0.2659 - f1_score: 0.8833 - accuracy: 0.8833 - val_loss: 0.2702 - val_f1_score: 0.8835 - val_accuracy: 0.8835\n",
      "Epoch 87/100\n"
     ]
    },
    {
     "name": "stdout",
     "output_type": "stream",
     "text": [
      "5274/5274 [==============================] - 47s 9ms/step - loss: 0.2665 - f1_score: 0.8835 - accuracy: 0.8835 - val_loss: 0.2662 - val_f1_score: 0.8861 - val_accuracy: 0.8861\n",
      "Epoch 88/100\n",
      "5274/5274 [==============================] - 47s 9ms/step - loss: 0.2632 - f1_score: 0.8844 - accuracy: 0.8844 - val_loss: 0.2839 - val_f1_score: 0.8755 - val_accuracy: 0.8755\n",
      "Epoch 89/100\n",
      "5274/5274 [==============================] - 48s 9ms/step - loss: 0.2654 - f1_score: 0.8841 - accuracy: 0.8841 - val_loss: 0.3427 - val_f1_score: 0.8523 - val_accuracy: 0.8523\n",
      "Epoch 90/100\n",
      "5274/5274 [==============================] - 49s 9ms/step - loss: 0.2640 - f1_score: 0.8844 - accuracy: 0.8844 - val_loss: 0.3246 - val_f1_score: 0.8616 - val_accuracy: 0.8617\n",
      "Epoch 91/100\n",
      "5274/5274 [==============================] - 49s 9ms/step - loss: 0.2629 - f1_score: 0.8852 - accuracy: 0.8852 - val_loss: 0.2822 - val_f1_score: 0.8814 - val_accuracy: 0.8814\n",
      "Epoch 92/100\n",
      "5274/5274 [==============================] - 49s 9ms/step - loss: 0.2624 - f1_score: 0.8851 - accuracy: 0.8851 - val_loss: 0.2663 - val_f1_score: 0.8870 - val_accuracy: 0.8870\n",
      "Epoch 93/100\n",
      "5274/5274 [==============================] - 49s 9ms/step - loss: 0.2606 - f1_score: 0.8862 - accuracy: 0.8862 - val_loss: 0.2703 - val_f1_score: 0.8834 - val_accuracy: 0.8834\n",
      "Epoch 94/100\n",
      "5274/5274 [==============================] - 49s 9ms/step - loss: 0.2598 - f1_score: 0.8868 - accuracy: 0.8868 - val_loss: 0.2765 - val_f1_score: 0.8809 - val_accuracy: 0.8809\n",
      "Epoch 95/100\n",
      "5274/5274 [==============================] - 50s 9ms/step - loss: 0.2595 - f1_score: 0.8861 - accuracy: 0.8861 - val_loss: 0.2554 - val_f1_score: 0.8912 - val_accuracy: 0.8913\n",
      "Epoch 96/100\n",
      "5274/5274 [==============================] - 50s 9ms/step - loss: 0.2590 - f1_score: 0.8876 - accuracy: 0.8876 - val_loss: 0.2671 - val_f1_score: 0.8864 - val_accuracy: 0.8864\n",
      "Epoch 97/100\n",
      "5274/5274 [==============================] - 49s 9ms/step - loss: 0.2583 - f1_score: 0.8866 - accuracy: 0.8866 - val_loss: 0.2786 - val_f1_score: 0.8788 - val_accuracy: 0.8788\n",
      "Epoch 98/100\n",
      "5274/5274 [==============================] - 50s 9ms/step - loss: 0.2580 - f1_score: 0.8877 - accuracy: 0.8877 - val_loss: 0.2668 - val_f1_score: 0.8864 - val_accuracy: 0.8864\n",
      "Epoch 99/100\n",
      "5274/5274 [==============================] - 49s 9ms/step - loss: 0.2579 - f1_score: 0.8877 - accuracy: 0.8877 - val_loss: 0.2563 - val_f1_score: 0.8892 - val_accuracy: 0.8892\n",
      "Epoch 100/100\n",
      "5274/5274 [==============================] - 49s 9ms/step - loss: 0.2564 - f1_score: 0.8884 - accuracy: 0.8884 - val_loss: 0.2533 - val_f1_score: 0.8917 - val_accuracy: 0.8917\n"
     ]
    }
   ],
   "source": [
    "epochs = 100\n",
    "if not(LOAD_MODEL):\n",
    "    history = model.fit(train_data, train_labels, epochs=epochs, validation_split = RATIO_VALIDATION)"
   ]
  },
  {
   "cell_type": "code",
   "execution_count": 10,
   "id": "46232143-bf26-4d94-93e2-c23ce37a0202",
   "metadata": {},
   "outputs": [],
   "source": [
    "import matplotlib.pyplot as plt\n",
    "def plot(parameter_name, small_window = False):\n",
    "    plt.plot(history.history[parameter_name], label=parameter_name)\n",
    "    plt.plot(history.history['val_' + parameter_name], label = 'val_' + parameter_name)\n",
    "    plt.xlabel('Epoch')\n",
    "    plt.ylabel(parameter_name.capitalize())\n",
    "    if small_window:\n",
    "        plt.ylim([0.1, 0.7])\n",
    "    else:\n",
    "        plt.ylim([0.5, 1])\n",
    "    plt.legend(loc='lower right')"
   ]
  },
  {
   "cell_type": "code",
   "execution_count": 11,
   "id": "32380e33-c372-4f96-85ec-26f485667dbb",
   "metadata": {},
   "outputs": [
    {
     "data": {
      "text/plain": [
       "dict_keys(['loss', 'f1_score', 'accuracy', 'val_loss', 'val_f1_score', 'val_accuracy'])"
      ]
     },
     "execution_count": 11,
     "metadata": {},
     "output_type": "execute_result"
    }
   ],
   "source": [
    "history.history.keys()"
   ]
  },
  {
   "cell_type": "code",
   "execution_count": 12,
   "id": "80212940-eb0b-4d07-a394-6d5c4df82500",
   "metadata": {},
   "outputs": [
    {
     "data": {
      "image/png": "[encoded data removed]",
      "text/plain": [
       "<Figure size 432x288 with 1 Axes>"
      ]
     },
     "metadata": {
      "needs_background": "light"
     },
     "output_type": "display_data"
    }
   ],
   "source": [
    "if not(LOAD_MODEL):\n",
    "    plot('accuracy')"
   ]
  },
  {
   "cell_type": "code",
   "execution_count": 13,
   "id": "d47ab910-9878-4847-bd8d-e3854163a935",
   "metadata": {},
   "outputs": [
    {
     "data": {
      "image/png": "[encoded data removed]",
      "text/plain": [
       "<Figure size 432x288 with 1 Axes>"
      ]
     },
     "metadata": {
      "needs_background": "light"
     },
     "output_type": "display_data"
    }
   ],
   "source": [
    "if not(LOAD_MODEL):\n",
    "    plot('f1_score')"
   ]
  },
  {
   "cell_type": "code",
   "execution_count": 14,
   "id": "4381dda2-bbc3-4b6d-b7d1-5d31d0cdf00d",
   "metadata": {},
   "outputs": [
    {
     "data": {
      "image/png": "[encoded data removed]",
      "text/plain": [
       "<Figure size 432x288 with 1 Axes>"
      ]
     },
     "metadata": {
      "needs_background": "light"
     },
     "output_type": "display_data"
    }
   ],
   "source": [
    "if not(LOAD_MODEL):\n",
    "    plot('loss', True)"
   ]
  },
  {
   "cell_type": "code",
   "execution_count": 34,
   "id": "d409368e-2c39-42c5-86ea-e078347e309a",
   "metadata": {},
   "outputs": [],
   "source": [
    "if LOAD_MODEL:\n",
    "    loaded_model = tf.keras.models.load_model('model_seg.h5', custom_objects = {'f1_score': f1_score})\n",
    "elif SAVE_MODEL:\n",
    "    model.save(\"model_seg.h5\")"
   ]
  },
  {
   "cell_type": "code",
   "execution_count": 16,
   "id": "7c805131-1f85-477b-8d09-f96ac876e18b",
   "metadata": {},
   "outputs": [],
   "source": [
    "if LOAD_MODEL:\n",
    "    model = loaded_model"
   ]
  },
  {
   "cell_type": "code",
   "execution_count": 17,
   "id": "71a9345d-4488-441a-80f4-2c4fc5b0c084",
   "metadata": {},
   "outputs": [],
   "source": [
    "ex, label = train_data[0], train_labels[0]"
   ]
  },
  {
   "cell_type": "code",
   "execution_count": 18,
   "id": "5d6735f2-411f-4ef6-949d-a3491a60fbfd",
   "metadata": {},
   "outputs": [
    {
     "data": {
      "text/plain": [
       "(16, 16, 3)"
      ]
     },
     "execution_count": 18,
     "metadata": {},
     "output_type": "execute_result"
    }
   ],
   "source": [
    "train_data[0].shape"
   ]
  },
  {
   "cell_type": "code",
   "execution_count": 19,
   "id": "f061ea29-9b90-41e8-9fd9-0e73996c5a04",
   "metadata": {},
   "outputs": [
    {
     "data": {
      "text/plain": [
       "array([1., 0.], dtype=float32)"
      ]
     },
     "execution_count": 19,
     "metadata": {},
     "output_type": "execute_result"
    }
   ],
   "source": [
    "label"
   ]
  },
  {
   "cell_type": "code",
   "execution_count": 20,
   "id": "579e1443-fca0-469c-b1d2-11d45505977f",
   "metadata": {},
   "outputs": [],
   "source": [
    "import pathlib"
   ]
  },
  {
   "cell_type": "code",
   "execution_count": 21,
   "id": "54f1167d-e1a1-403f-84d4-9251f90acce5",
   "metadata": {},
   "outputs": [],
   "source": [
    "directory_path = pathlib.Path(\"../data/test_set_images/\")"
   ]
  },
  {
   "cell_type": "code",
   "execution_count": 22,
   "id": "899ffa1e-7118-42a7-a9e0-587ee697064c",
   "metadata": {},
   "outputs": [
    {
     "data": {
      "text/plain": [
       "50"
      ]
     },
     "execution_count": 22,
     "metadata": {},
     "output_type": "execute_result"
    }
   ],
   "source": [
    "len(list(directory_path.glob('*/*.png')))"
   ]
  },
  {
   "cell_type": "code",
   "execution_count": 23,
   "id": "d5747a64-abf3-4f5f-bd23-c2ef3aa7e6bd",
   "metadata": {},
   "outputs": [],
   "source": [
    "all_images = []\n",
    "for i in range(1,51):\n",
    "    image_in_directory = list(directory_path.glob(\"test_\" + str(i) + \"/*\"))\n",
    "    all_images.extend(image_in_directory)\n",
    "img_height = img_width = 608"
   ]
  },
  {
   "cell_type": "code",
   "execution_count": 24,
   "id": "0d1a37f5-5fbe-4d0d-8f21-d04214c9a82a",
   "metadata": {},
   "outputs": [
    {
     "data": {
      "text/plain": [
       "50"
      ]
     },
     "execution_count": 24,
     "metadata": {},
     "output_type": "execute_result"
    }
   ],
   "source": [
    "len(all_images)"
   ]
  },
  {
   "cell_type": "code",
   "execution_count": 25,
   "id": "7fc86929-8b38-45fb-8ac7-da46a811120c",
   "metadata": {},
   "outputs": [],
   "source": [
    "all_images_arrays = []\n",
    "for i in range(len(all_images)):\n",
    "    img = tf.keras.utils.load_img(\n",
    "        all_images[i], target_size=(img_height, img_width)\n",
    "    )\n",
    "    img_array = tf.keras.utils.img_to_array(img)\n",
    "    all_images_arrays.append(img_array)\n",
    "all_images_arrays = numpy.array(all_images_arrays)/255.0"
   ]
  },
  {
   "cell_type": "code",
   "execution_count": 26,
   "id": "2d67dbb0-c344-4195-9b4b-b60e7a70e73c",
   "metadata": {},
   "outputs": [
    {
     "data": {
      "text/plain": [
       "1.0"
      ]
     },
     "execution_count": 26,
     "metadata": {},
     "output_type": "execute_result"
    }
   ],
   "source": [
    "all_images_arrays.max()"
   ]
  },
  {
   "cell_type": "code",
   "execution_count": 27,
   "id": "29e60ada-3116-41c1-9a7d-ef039f24f241",
   "metadata": {},
   "outputs": [
    {
     "data": {
      "text/plain": [
       "(50, 608, 608, 3)"
      ]
     },
     "execution_count": 27,
     "metadata": {},
     "output_type": "execute_result"
    }
   ],
   "source": [
    "all_images_arrays.shape"
   ]
  },
  {
   "cell_type": "code",
   "execution_count": 28,
   "id": "15179965-ed94-4a47-acfb-9c19ef760b0d",
   "metadata": {},
   "outputs": [],
   "source": [
    "test_images = []\n",
    "for i in range(len(all_images_arrays)):\n",
    "    img_patched = extract_data_from_image(all_images_arrays[i])\n",
    "    test_images.extend(img_patched)\n",
    "test_images = numpy.array(test_images)"
   ]
  },
  {
   "cell_type": "code",
   "execution_count": 29,
   "id": "1d3cf4f1",
   "metadata": {},
   "outputs": [
    {
     "data": {
      "text/plain": [
       "(72200, 16, 16, 3)"
      ]
     },
     "execution_count": 29,
     "metadata": {},
     "output_type": "execute_result"
    }
   ],
   "source": [
    "test_images.shape"
   ]
  },
  {
   "cell_type": "code",
   "execution_count": 30,
   "id": "45782f95-8e0f-4e7e-8049-7c46ced2868e",
   "metadata": {},
   "outputs": [],
   "source": [
    "predictions_testing = \"predictions_testing/\"\n",
    "if not os.path.isdir(predictions_testing):\n",
    "    os.mkdir(predictions_testing)"
   ]
  },
  {
   "cell_type": "code",
   "execution_count": 31,
   "id": "186e4311-e72e-4911-8fa6-b6340692c165",
   "metadata": {},
   "outputs": [
    {
     "data": {
      "text/plain": [
       "(16, 16, 3)"
      ]
     },
     "execution_count": 31,
     "metadata": {},
     "output_type": "execute_result"
    }
   ],
   "source": [
    "train_data[0].shape"
   ]
  },
  {
   "cell_type": "code",
   "execution_count": 32,
   "id": "225e9aff-68e4-4309-a324-05dd9e9bc2ff",
   "metadata": {},
   "outputs": [
    {
     "name": "stdout",
     "output_type": "stream",
     "text": [
      "go\n"
     ]
    }
   ],
   "source": [
    "stopper = input()\n",
    "for i in range(len(all_images_arrays)):\n",
    "    pimg,prediction = get_prediction_with_groundtruth(all_images_arrays[i], model)\n",
    "    Image.fromarray(pimg[:,608:,:]).save(predictions_testing + \"prediction_image_\" + str(i+1) + \".png\")\n",
    "    Image.fromarray(pimg).save(predictions_testing + \"prediction_\" + str(i) + \".png\")\n",
    "    oimg = get_prediction_with_overlay(all_images_arrays[i], model)\n",
    "    oimg.save(predictions_testing  + \"overlay_\" + str(i) + \".png\")"
   ]
  },
  {
   "cell_type": "code",
   "execution_count": null,
   "id": "46375273-ee32-4f81-b68a-497e07272ff6",
   "metadata": {},
   "outputs": [],
   "source": []
  }
 ],
 "metadata": {
  "kernelspec": {
   "display_name": "Python 3",
   "language": "python",
   "name": "python3"
  },
  "language_info": {
   "codemirror_mode": {
    "name": "ipython",
    "version": 3
   },
   "file_extension": ".py",
   "mimetype": "text/x-python",
   "name": "python",
   "nbconvert_exporter": "python",
   "pygments_lexer": "ipython3",
   "version": "3.8.8"
  }
 },
 "nbformat": 4,
 "nbformat_minor": 5
}
